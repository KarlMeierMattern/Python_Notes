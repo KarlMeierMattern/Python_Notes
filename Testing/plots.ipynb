{
 "cells": [
  {
   "attachments": {},
   "cell_type": "markdown",
   "metadata": {},
   "source": [
    "### This is a test run"
   ]
  },
  {
   "cell_type": "code",
   "execution_count": 1,
   "metadata": {},
   "outputs": [],
   "source": [
    "import pandas as pd"
   ]
  },
  {
   "cell_type": "code",
   "execution_count": 2,
   "metadata": {},
   "outputs": [],
   "source": [
    "new_file1 = pd.read_excel(\"C:/Users/kmeiermatt001/Desktop/trial_balance.xlsx\")"
   ]
  },
  {
   "cell_type": "code",
   "execution_count": 3,
   "metadata": {},
   "outputs": [
    {
     "data": {
      "text/html": [
       "<div>\n",
       "<style scoped>\n",
       "    .dataframe tbody tr th:only-of-type {\n",
       "        vertical-align: middle;\n",
       "    }\n",
       "\n",
       "    .dataframe tbody tr th {\n",
       "        vertical-align: top;\n",
       "    }\n",
       "\n",
       "    .dataframe thead th {\n",
       "        text-align: right;\n",
       "    }\n",
       "</style>\n",
       "<table border=\"1\" class=\"dataframe\">\n",
       "  <thead>\n",
       "    <tr style=\"text-align: right;\">\n",
       "      <th></th>\n",
       "      <th>TB Code</th>\n",
       "      <th>Account Name</th>\n",
       "      <th>Balance</th>\n",
       "    </tr>\n",
       "  </thead>\n",
       "  <tbody>\n",
       "    <tr>\n",
       "      <th>0</th>\n",
       "      <td>1000</td>\n",
       "      <td>Factory equipment - Cost</td>\n",
       "      <td>5122000.000</td>\n",
       "    </tr>\n",
       "    <tr>\n",
       "      <th>1</th>\n",
       "      <td>1001</td>\n",
       "      <td>Factory buildings - Cost</td>\n",
       "      <td>5000000.000</td>\n",
       "    </tr>\n",
       "    <tr>\n",
       "      <th>2</th>\n",
       "      <td>1002</td>\n",
       "      <td>Factory Land - Cost</td>\n",
       "      <td>7000000.000</td>\n",
       "    </tr>\n",
       "    <tr>\n",
       "      <th>3</th>\n",
       "      <td>1003</td>\n",
       "      <td>Office fixtures &amp; fittings - Cost</td>\n",
       "      <td>200000.000</td>\n",
       "    </tr>\n",
       "    <tr>\n",
       "      <th>4</th>\n",
       "      <td>1004</td>\n",
       "      <td>Factory equipment - Accumulated depreciation</td>\n",
       "      <td>-1536600.000</td>\n",
       "    </tr>\n",
       "    <tr>\n",
       "      <th>5</th>\n",
       "      <td>1005</td>\n",
       "      <td>Factory buildings - Accumulated depreciation</td>\n",
       "      <td>-1200000.000</td>\n",
       "    </tr>\n",
       "    <tr>\n",
       "      <th>6</th>\n",
       "      <td>1006</td>\n",
       "      <td>Office fixtures &amp; fittings - Accumulated depre...</td>\n",
       "      <td>-65000.000</td>\n",
       "    </tr>\n",
       "    <tr>\n",
       "      <th>7</th>\n",
       "      <td>1010</td>\n",
       "      <td>Trade Debtors</td>\n",
       "      <td>2001074.000</td>\n",
       "    </tr>\n",
       "    <tr>\n",
       "      <th>8</th>\n",
       "      <td>1011</td>\n",
       "      <td>Provision for doubtful debtors</td>\n",
       "      <td>-50000.000</td>\n",
       "    </tr>\n",
       "    <tr>\n",
       "      <th>9</th>\n",
       "      <td>1020</td>\n",
       "      <td>Inventory</td>\n",
       "      <td>1629285.125</td>\n",
       "    </tr>\n",
       "  </tbody>\n",
       "</table>\n",
       "</div>"
      ],
      "text/plain": [
       "   TB Code                                       Account Name      Balance\n",
       "0     1000                           Factory equipment - Cost  5122000.000\n",
       "1     1001                           Factory buildings - Cost  5000000.000\n",
       "2     1002                                Factory Land - Cost  7000000.000\n",
       "3     1003                  Office fixtures & fittings - Cost   200000.000\n",
       "4     1004       Factory equipment - Accumulated depreciation -1536600.000\n",
       "5     1005       Factory buildings - Accumulated depreciation -1200000.000\n",
       "6     1006  Office fixtures & fittings - Accumulated depre...   -65000.000\n",
       "7     1010                                      Trade Debtors  2001074.000\n",
       "8     1011                     Provision for doubtful debtors   -50000.000\n",
       "9     1020                                          Inventory  1629285.125"
      ]
     },
     "execution_count": 3,
     "metadata": {},
     "output_type": "execute_result"
    }
   ],
   "source": [
    "new_file1.head(10)"
   ]
  },
  {
   "cell_type": "code",
   "execution_count": 4,
   "metadata": {},
   "outputs": [
    {
     "data": {
      "image/png": "[encoded data removed]",
      "text/plain": [
       "<Figure size 432x288 with 1 Axes>"
      ]
     },
     "metadata": {
      "needs_background": "light"
     },
     "output_type": "display_data"
    }
   ],
   "source": [
    "import matplotlib.pyplot as plt\n",
    "x = new_file1.iloc[:,1]\n",
    "y = new_file1.iloc[:, 2]\n",
    "\n",
    "plt.plot(x,y)\n",
    "plt.show()"
   ]
  },
  {
   "cell_type": "code",
   "execution_count": 43,
   "metadata": {},
   "outputs": [
    {
     "data": {
      "text/html": [
       "<div>\n",
       "<style scoped>\n",
       "    .dataframe tbody tr th:only-of-type {\n",
       "        vertical-align: middle;\n",
       "    }\n",
       "\n",
       "    .dataframe tbody tr th {\n",
       "        vertical-align: top;\n",
       "    }\n",
       "\n",
       "    .dataframe thead th {\n",
       "        text-align: right;\n",
       "    }\n",
       "</style>\n",
       "<table border=\"1\" class=\"dataframe\">\n",
       "  <thead>\n",
       "    <tr style=\"text-align: right;\">\n",
       "      <th></th>\n",
       "      <th>TB Code</th>\n",
       "      <th>Account Name</th>\n",
       "      <th>Balance</th>\n",
       "    </tr>\n",
       "  </thead>\n",
       "  <tbody>\n",
       "    <tr>\n",
       "      <th>0</th>\n",
       "      <td>False</td>\n",
       "      <td>False</td>\n",
       "      <td>False</td>\n",
       "    </tr>\n",
       "    <tr>\n",
       "      <th>1</th>\n",
       "      <td>False</td>\n",
       "      <td>False</td>\n",
       "      <td>False</td>\n",
       "    </tr>\n",
       "    <tr>\n",
       "      <th>2</th>\n",
       "      <td>False</td>\n",
       "      <td>False</td>\n",
       "      <td>False</td>\n",
       "    </tr>\n",
       "    <tr>\n",
       "      <th>3</th>\n",
       "      <td>False</td>\n",
       "      <td>False</td>\n",
       "      <td>False</td>\n",
       "    </tr>\n",
       "    <tr>\n",
       "      <th>4</th>\n",
       "      <td>False</td>\n",
       "      <td>False</td>\n",
       "      <td>False</td>\n",
       "    </tr>\n",
       "    <tr>\n",
       "      <th>5</th>\n",
       "      <td>False</td>\n",
       "      <td>False</td>\n",
       "      <td>False</td>\n",
       "    </tr>\n",
       "    <tr>\n",
       "      <th>6</th>\n",
       "      <td>False</td>\n",
       "      <td>False</td>\n",
       "      <td>False</td>\n",
       "    </tr>\n",
       "    <tr>\n",
       "      <th>7</th>\n",
       "      <td>False</td>\n",
       "      <td>False</td>\n",
       "      <td>False</td>\n",
       "    </tr>\n",
       "    <tr>\n",
       "      <th>8</th>\n",
       "      <td>False</td>\n",
       "      <td>False</td>\n",
       "      <td>False</td>\n",
       "    </tr>\n",
       "    <tr>\n",
       "      <th>9</th>\n",
       "      <td>False</td>\n",
       "      <td>False</td>\n",
       "      <td>False</td>\n",
       "    </tr>\n",
       "    <tr>\n",
       "      <th>10</th>\n",
       "      <td>False</td>\n",
       "      <td>False</td>\n",
       "      <td>False</td>\n",
       "    </tr>\n",
       "    <tr>\n",
       "      <th>11</th>\n",
       "      <td>False</td>\n",
       "      <td>False</td>\n",
       "      <td>False</td>\n",
       "    </tr>\n",
       "    <tr>\n",
       "      <th>12</th>\n",
       "      <td>False</td>\n",
       "      <td>False</td>\n",
       "      <td>False</td>\n",
       "    </tr>\n",
       "    <tr>\n",
       "      <th>13</th>\n",
       "      <td>False</td>\n",
       "      <td>False</td>\n",
       "      <td>False</td>\n",
       "    </tr>\n",
       "    <tr>\n",
       "      <th>14</th>\n",
       "      <td>False</td>\n",
       "      <td>False</td>\n",
       "      <td>False</td>\n",
       "    </tr>\n",
       "    <tr>\n",
       "      <th>15</th>\n",
       "      <td>False</td>\n",
       "      <td>False</td>\n",
       "      <td>False</td>\n",
       "    </tr>\n",
       "    <tr>\n",
       "      <th>16</th>\n",
       "      <td>False</td>\n",
       "      <td>False</td>\n",
       "      <td>False</td>\n",
       "    </tr>\n",
       "    <tr>\n",
       "      <th>17</th>\n",
       "      <td>False</td>\n",
       "      <td>False</td>\n",
       "      <td>False</td>\n",
       "    </tr>\n",
       "    <tr>\n",
       "      <th>18</th>\n",
       "      <td>False</td>\n",
       "      <td>False</td>\n",
       "      <td>False</td>\n",
       "    </tr>\n",
       "    <tr>\n",
       "      <th>19</th>\n",
       "      <td>False</td>\n",
       "      <td>False</td>\n",
       "      <td>False</td>\n",
       "    </tr>\n",
       "    <tr>\n",
       "      <th>20</th>\n",
       "      <td>False</td>\n",
       "      <td>False</td>\n",
       "      <td>False</td>\n",
       "    </tr>\n",
       "    <tr>\n",
       "      <th>21</th>\n",
       "      <td>False</td>\n",
       "      <td>False</td>\n",
       "      <td>False</td>\n",
       "    </tr>\n",
       "    <tr>\n",
       "      <th>22</th>\n",
       "      <td>False</td>\n",
       "      <td>False</td>\n",
       "      <td>False</td>\n",
       "    </tr>\n",
       "    <tr>\n",
       "      <th>23</th>\n",
       "      <td>False</td>\n",
       "      <td>False</td>\n",
       "      <td>False</td>\n",
       "    </tr>\n",
       "    <tr>\n",
       "      <th>24</th>\n",
       "      <td>False</td>\n",
       "      <td>False</td>\n",
       "      <td>False</td>\n",
       "    </tr>\n",
       "    <tr>\n",
       "      <th>25</th>\n",
       "      <td>False</td>\n",
       "      <td>False</td>\n",
       "      <td>False</td>\n",
       "    </tr>\n",
       "    <tr>\n",
       "      <th>26</th>\n",
       "      <td>False</td>\n",
       "      <td>False</td>\n",
       "      <td>False</td>\n",
       "    </tr>\n",
       "    <tr>\n",
       "      <th>27</th>\n",
       "      <td>False</td>\n",
       "      <td>False</td>\n",
       "      <td>False</td>\n",
       "    </tr>\n",
       "    <tr>\n",
       "      <th>28</th>\n",
       "      <td>False</td>\n",
       "      <td>False</td>\n",
       "      <td>False</td>\n",
       "    </tr>\n",
       "    <tr>\n",
       "      <th>29</th>\n",
       "      <td>False</td>\n",
       "      <td>False</td>\n",
       "      <td>False</td>\n",
       "    </tr>\n",
       "    <tr>\n",
       "      <th>30</th>\n",
       "      <td>False</td>\n",
       "      <td>False</td>\n",
       "      <td>False</td>\n",
       "    </tr>\n",
       "    <tr>\n",
       "      <th>31</th>\n",
       "      <td>False</td>\n",
       "      <td>False</td>\n",
       "      <td>False</td>\n",
       "    </tr>\n",
       "    <tr>\n",
       "      <th>32</th>\n",
       "      <td>False</td>\n",
       "      <td>False</td>\n",
       "      <td>False</td>\n",
       "    </tr>\n",
       "    <tr>\n",
       "      <th>33</th>\n",
       "      <td>False</td>\n",
       "      <td>False</td>\n",
       "      <td>False</td>\n",
       "    </tr>\n",
       "    <tr>\n",
       "      <th>34</th>\n",
       "      <td>False</td>\n",
       "      <td>False</td>\n",
       "      <td>False</td>\n",
       "    </tr>\n",
       "    <tr>\n",
       "      <th>35</th>\n",
       "      <td>False</td>\n",
       "      <td>False</td>\n",
       "      <td>False</td>\n",
       "    </tr>\n",
       "    <tr>\n",
       "      <th>36</th>\n",
       "      <td>False</td>\n",
       "      <td>False</td>\n",
       "      <td>False</td>\n",
       "    </tr>\n",
       "    <tr>\n",
       "      <th>37</th>\n",
       "      <td>False</td>\n",
       "      <td>False</td>\n",
       "      <td>False</td>\n",
       "    </tr>\n",
       "    <tr>\n",
       "      <th>38</th>\n",
       "      <td>False</td>\n",
       "      <td>False</td>\n",
       "      <td>False</td>\n",
       "    </tr>\n",
       "    <tr>\n",
       "      <th>39</th>\n",
       "      <td>False</td>\n",
       "      <td>False</td>\n",
       "      <td>False</td>\n",
       "    </tr>\n",
       "    <tr>\n",
       "      <th>40</th>\n",
       "      <td>False</td>\n",
       "      <td>False</td>\n",
       "      <td>False</td>\n",
       "    </tr>\n",
       "    <tr>\n",
       "      <th>41</th>\n",
       "      <td>False</td>\n",
       "      <td>False</td>\n",
       "      <td>False</td>\n",
       "    </tr>\n",
       "    <tr>\n",
       "      <th>42</th>\n",
       "      <td>False</td>\n",
       "      <td>False</td>\n",
       "      <td>False</td>\n",
       "    </tr>\n",
       "    <tr>\n",
       "      <th>43</th>\n",
       "      <td>False</td>\n",
       "      <td>False</td>\n",
       "      <td>False</td>\n",
       "    </tr>\n",
       "  </tbody>\n",
       "</table>\n",
       "</div>"
      ],
      "text/plain": [
       "    TB Code  Account Name  Balance\n",
       "0     False         False    False\n",
       "1     False         False    False\n",
       "2     False         False    False\n",
       "3     False         False    False\n",
       "4     False         False    False\n",
       "5     False         False    False\n",
       "6     False         False    False\n",
       "7     False         False    False\n",
       "8     False         False    False\n",
       "9     False         False    False\n",
       "10    False         False    False\n",
       "11    False         False    False\n",
       "12    False         False    False\n",
       "13    False         False    False\n",
       "14    False         False    False\n",
       "15    False         False    False\n",
       "16    False         False    False\n",
       "17    False         False    False\n",
       "18    False         False    False\n",
       "19    False         False    False\n",
       "20    False         False    False\n",
       "21    False         False    False\n",
       "22    False         False    False\n",
       "23    False         False    False\n",
       "24    False         False    False\n",
       "25    False         False    False\n",
       "26    False         False    False\n",
       "27    False         False    False\n",
       "28    False         False    False\n",
       "29    False         False    False\n",
       "30    False         False    False\n",
       "31    False         False    False\n",
       "32    False         False    False\n",
       "33    False         False    False\n",
       "34    False         False    False\n",
       "35    False         False    False\n",
       "36    False         False    False\n",
       "37    False         False    False\n",
       "38    False         False    False\n",
       "39    False         False    False\n",
       "40    False         False    False\n",
       "41    False         False    False\n",
       "42    False         False    False\n",
       "43    False         False    False"
      ]
     },
     "execution_count": 43,
     "metadata": {},
     "output_type": "execute_result"
    }
   ],
   "source": [
    "new_file1.isna()"
   ]
  },
  {
   "cell_type": "code",
   "execution_count": 12,
   "metadata": {},
   "outputs": [],
   "source": [
    "world = {'key1':4, 'key2':2}"
   ]
  },
  {
   "cell_type": "code",
   "execution_count": 16,
   "metadata": {},
   "outputs": [],
   "source": [
    "world['key3'] = 8"
   ]
  },
  {
   "cell_type": "code",
   "execution_count": 17,
   "metadata": {},
   "outputs": [
    {
     "data": {
      "text/plain": [
       "{'key1': 4, 'key2': 2, 'key3': 8}"
      ]
     },
     "execution_count": 17,
     "metadata": {},
     "output_type": "execute_result"
    }
   ],
   "source": [
    "world"
   ]
  },
  {
   "cell_type": "code",
   "execution_count": 18,
   "metadata": {},
   "outputs": [],
   "source": [
    "world['key3'] = 9"
   ]
  },
  {
   "cell_type": "code",
   "execution_count": 19,
   "metadata": {},
   "outputs": [
    {
     "data": {
      "text/plain": [
       "{'key1': 4, 'key2': 2, 'key3': 9}"
      ]
     },
     "execution_count": 19,
     "metadata": {},
     "output_type": "execute_result"
    }
   ],
   "source": [
    "world"
   ]
  },
  {
   "cell_type": "code",
   "execution_count": 20,
   "metadata": {},
   "outputs": [],
   "source": [
    "del(world['key3'])"
   ]
  },
  {
   "cell_type": "code",
   "execution_count": 21,
   "metadata": {},
   "outputs": [
    {
     "data": {
      "text/plain": [
       "{'key1': 4, 'key2': 2}"
      ]
     },
     "execution_count": 21,
     "metadata": {},
     "output_type": "execute_result"
    }
   ],
   "source": [
    "world"
   ]
  },
  {
   "cell_type": "code",
   "execution_count": 30,
   "metadata": {},
   "outputs": [
    {
     "name": "stdout",
     "output_type": "stream",
     "text": [
      "The value of key1 is 4\n",
      "The value of key2 is 2\n"
     ]
    }
   ],
   "source": [
    "for key, value in world.items():\n",
    "    print(\"The value of \" + key + \" is \" + str(value))"
   ]
  },
  {
   "cell_type": "code",
   "execution_count": 36,
   "metadata": {},
   "outputs": [
    {
     "name": "stdout",
     "output_type": "stream",
     "text": [
      "Requirement already satisfied: python-binance in c:\\users\\kmeiermatt001\\anaconda3\\lib\\site-packages (1.0.16)\n",
      "Requirement already satisfied: websockets in c:\\users\\kmeiermatt001\\anaconda3\\lib\\site-packages (from python-binance) (10.4)\n",
      "Requirement already satisfied: aiohttp in c:\\users\\kmeiermatt001\\anaconda3\\lib\\site-packages (from python-binance) (3.8.1)\n",
      "Requirement already satisfied: ujson in c:\\users\\kmeiermatt001\\anaconda3\\lib\\site-packages (from python-binance) (5.1.0)\n",
      "Requirement already satisfied: dateparser in c:\\users\\kmeiermatt001\\anaconda3\\lib\\site-packages (from python-binance) (1.1.6)\n",
      "Requirement already satisfied: six in c:\\users\\kmeiermatt001\\anaconda3\\lib\\site-packages (from python-binance) (1.16.0)\n",
      "Requirement already satisfied: requests in c:\\users\\kmeiermatt001\\anaconda3\\lib\\site-packages (from python-binance) (2.27.1)\n",
      "Requirement already satisfied: async-timeout<5.0,>=4.0.0a3 in c:\\users\\kmeiermatt001\\anaconda3\\lib\\site-packages (from aiohttp->python-binance) (4.0.1)\n",
      "Requirement already satisfied: attrs>=17.3.0 in c:\\users\\kmeiermatt001\\anaconda3\\lib\\site-packages (from aiohttp->python-binance) (21.4.0)\n",
      "Requirement already satisfied: charset-normalizer<3.0,>=2.0 in c:\\users\\kmeiermatt001\\anaconda3\\lib\\site-packages (from aiohttp->python-binance) (2.0.4)\n",
      "Requirement already satisfied: aiosignal>=1.1.2 in c:\\users\\kmeiermatt001\\anaconda3\\lib\\site-packages (from aiohttp->python-binance) (1.2.0)\n",
      "Requirement already satisfied: multidict<7.0,>=4.5 in c:\\users\\kmeiermatt001\\anaconda3\\lib\\site-packages (from aiohttp->python-binance) (5.1.0)\n",
      "Requirement already satisfied: yarl<2.0,>=1.0 in c:\\users\\kmeiermatt001\\anaconda3\\lib\\site-packages (from aiohttp->python-binance) (1.6.3)\n",
      "Requirement already satisfied: frozenlist>=1.1.1 in c:\\users\\kmeiermatt001\\anaconda3\\lib\\site-packages (from aiohttp->python-binance) (1.2.0)\n",
      "Requirement already satisfied: typing-extensions>=3.6.5 in c:\\users\\kmeiermatt001\\anaconda3\\lib\\site-packages (from async-timeout<5.0,>=4.0.0a3->aiohttp->python-binance) (4.1.1)\n",
      "Requirement already satisfied: idna>=2.0 in c:\\users\\kmeiermatt001\\anaconda3\\lib\\site-packages (from yarl<2.0,>=1.0->aiohttp->python-binance) (3.3)\n",
      "Requirement already satisfied: python-dateutil in c:\\users\\kmeiermatt001\\anaconda3\\lib\\site-packages (from dateparser->python-binance) (2.8.2)\n",
      "Requirement already satisfied: regex!=2019.02.19,!=2021.8.27 in c:\\users\\kmeiermatt001\\anaconda3\\lib\\site-packages (from dateparser->python-binance) (2022.3.15)\n",
      "Requirement already satisfied: pytz in c:\\users\\kmeiermatt001\\anaconda3\\lib\\site-packages (from dateparser->python-binance) (2021.3)\n",
      "Requirement already satisfied: tzlocal in c:\\users\\kmeiermatt001\\anaconda3\\lib\\site-packages (from dateparser->python-binance) (4.2)\n",
      "Requirement already satisfied: certifi>=2017.4.17 in c:\\users\\kmeiermatt001\\anaconda3\\lib\\site-packages (from requests->python-binance) (2021.10.8)\n",
      "Requirement already satisfied: urllib3<1.27,>=1.21.1 in c:\\users\\kmeiermatt001\\anaconda3\\lib\\site-packages (from requests->python-binance) (1.26.9)\n",
      "Requirement already satisfied: tzdata in c:\\users\\kmeiermatt001\\anaconda3\\lib\\site-packages (from tzlocal->dateparser->python-binance) (2022.7)\n",
      "Requirement already satisfied: pytz-deprecation-shim in c:\\users\\kmeiermatt001\\anaconda3\\lib\\site-packages (from tzlocal->dateparser->python-binance) (0.1.0.post0)\n",
      "Requirement already satisfied: pandas in c:\\users\\kmeiermatt001\\anaconda3\\lib\\site-packages (1.4.2)\n",
      "Requirement already satisfied: pytz>=2020.1 in c:\\users\\kmeiermatt001\\anaconda3\\lib\\site-packages (from pandas) (2021.3)\n",
      "Requirement already satisfied: numpy>=1.18.5 in c:\\users\\kmeiermatt001\\anaconda3\\lib\\site-packages (from pandas) (1.21.5)\n",
      "Requirement already satisfied: python-dateutil>=2.8.1 in c:\\users\\kmeiermatt001\\anaconda3\\lib\\site-packages (from pandas) (2.8.2)\n",
      "Requirement already satisfied: six>=1.5 in c:\\users\\kmeiermatt001\\anaconda3\\lib\\site-packages (from python-dateutil>=2.8.1->pandas) (1.16.0)\n",
      "Requirement already satisfied: mplfinance in c:\\users\\kmeiermatt001\\anaconda3\\lib\\site-packages (0.12.9b7)\n",
      "Requirement already satisfied: matplotlib in c:\\users\\kmeiermatt001\\anaconda3\\lib\\site-packages (from mplfinance) (3.5.1)\n",
      "Requirement already satisfied: pandas in c:\\users\\kmeiermatt001\\anaconda3\\lib\\site-packages (from mplfinance) (1.4.2)\n",
      "Requirement already satisfied: cycler>=0.10 in c:\\users\\kmeiermatt001\\anaconda3\\lib\\site-packages (from matplotlib->mplfinance) (0.11.0)\n",
      "Requirement already satisfied: numpy>=1.17 in c:\\users\\kmeiermatt001\\anaconda3\\lib\\site-packages (from matplotlib->mplfinance) (1.21.5)\n",
      "Requirement already satisfied: python-dateutil>=2.7 in c:\\users\\kmeiermatt001\\anaconda3\\lib\\site-packages (from matplotlib->mplfinance) (2.8.2)\n",
      "Requirement already satisfied: packaging>=20.0 in c:\\users\\kmeiermatt001\\anaconda3\\lib\\site-packages (from matplotlib->mplfinance) (21.3)\n",
      "Requirement already satisfied: pyparsing>=2.2.1 in c:\\users\\kmeiermatt001\\anaconda3\\lib\\site-packages (from matplotlib->mplfinance) (3.0.4)\n",
      "Requirement already satisfied: pillow>=6.2.0 in c:\\users\\kmeiermatt001\\anaconda3\\lib\\site-packages (from matplotlib->mplfinance) (9.0.1)\n",
      "Requirement already satisfied: fonttools>=4.22.0 in c:\\users\\kmeiermatt001\\anaconda3\\lib\\site-packages (from matplotlib->mplfinance) (4.25.0)\n",
      "Requirement already satisfied: kiwisolver>=1.0.1 in c:\\users\\kmeiermatt001\\anaconda3\\lib\\site-packages (from matplotlib->mplfinance) (1.3.2)\n",
      "Requirement already satisfied: six>=1.5 in c:\\users\\kmeiermatt001\\anaconda3\\lib\\site-packages (from python-dateutil>=2.7->matplotlib->mplfinance) (1.16.0)\n",
      "Requirement already satisfied: pytz>=2020.1 in c:\\users\\kmeiermatt001\\anaconda3\\lib\\site-packages (from pandas->mplfinance) (2021.3)\n"
     ]
    }
   ],
   "source": []
  },
  {
   "cell_type": "code",
   "execution_count": 37,
   "metadata": {},
   "outputs": [
    {
     "ename": "AttributeError",
     "evalue": "module 'binance.client' has no attribute 'get_all_tickers'",
     "output_type": "error",
     "traceback": [
      "\u001b[1;31m---------------------------------------------------------------------------\u001b[0m",
      "\u001b[1;31mAttributeError\u001b[0m                            Traceback (most recent call last)",
      "\u001b[1;32mc:\\Users\\kmeiermatt001\\Documents\\GitHub\\Python_Notes\\plots.ipynb Cell 16\u001b[0m in \u001b[0;36m<cell line: 1>\u001b[1;34m()\u001b[0m\n\u001b[1;32m----> <a href='vscode-notebook-cell:/c%3A/Users/kmeiermatt001/Documents/GitHub/Python_Notes/plots.ipynb#X23sZmlsZQ%3D%3D?line=0'>1</a>\u001b[0m tickers \u001b[39m=\u001b[39m client\u001b[39m.\u001b[39;49mget_all_tickers()\n\u001b[0;32m      <a href='vscode-notebook-cell:/c%3A/Users/kmeiermatt001/Documents/GitHub/Python_Notes/plots.ipynb#X23sZmlsZQ%3D%3D?line=1'>2</a>\u001b[0m depth \u001b[39m=\u001b[39m client\u001b[39m.\u001b[39mget_order_book(symbol \u001b[39m=\u001b[39m \u001b[39m\"\u001b[39m\u001b[39mBTCUSDT\u001b[39m\u001b[39m\"\u001b[39m)\n\u001b[0;32m      <a href='vscode-notebook-cell:/c%3A/Users/kmeiermatt001/Documents/GitHub/Python_Notes/plots.ipynb#X23sZmlsZQ%3D%3D?line=2'>3</a>\u001b[0m depth_df\u001b[39m.\u001b[39mcolumns \u001b[39m=\u001b[39m [\u001b[39m'\u001b[39m\u001b[39mPrice\u001b[39m\u001b[39m'\u001b[39m,\u001b[39m'\u001b[39m\u001b[39mVolume\u001b[39m\u001b[39m'\u001b[39m]\n",
      "\u001b[1;31mAttributeError\u001b[0m: module 'binance.client' has no attribute 'get_all_tickers'"
     ]
    }
   ],
   "source": []
  },
  {
   "cell_type": "code",
   "execution_count": 38,
   "metadata": {},
   "outputs": [
    {
     "ename": "AttributeError",
     "evalue": "module 'binance.client' has no attribute 'get_historical_klines'",
     "output_type": "error",
     "traceback": [
      "\u001b[1;31m---------------------------------------------------------------------------\u001b[0m",
      "\u001b[1;31mAttributeError\u001b[0m                            Traceback (most recent call last)",
      "\u001b[1;32mc:\\Users\\kmeiermatt001\\Documents\\GitHub\\Python_Notes\\plots.ipynb Cell 17\u001b[0m in \u001b[0;36m<cell line: 1>\u001b[1;34m()\u001b[0m\n\u001b[1;32m----> <a href='vscode-notebook-cell:/c%3A/Users/kmeiermatt001/Documents/GitHub/Python_Notes/plots.ipynb#X24sZmlsZQ%3D%3D?line=0'>1</a>\u001b[0m historical \u001b[39m=\u001b[39m client\u001b[39m.\u001b[39;49mget_historical_klines(\u001b[39m\"\u001b[39m\u001b[39mBTCUSDT\u001b[39m\u001b[39m\"\u001b[39m, Client\u001b[39m.\u001b[39mKLINE_INTERVAL_1DAY, \u001b[39m\"\u001b[39m\u001b[39m1 Jan, 2011\u001b[39m\u001b[39m\"\u001b[39m)\n",
      "\u001b[1;31mAttributeError\u001b[0m: module 'binance.client' has no attribute 'get_historical_klines'"
     ]
    }
   ],
   "source": []
  },
  {
   "cell_type": "code",
   "execution_count": null,
   "metadata": {},
   "outputs": [],
   "source": []
  },
  {
   "cell_type": "code",
   "execution_count": null,
   "metadata": {},
   "outputs": [],
   "source": []
  },
  {
   "cell_type": "code",
   "execution_count": 39,
   "metadata": {},
   "outputs": [
    {
     "ename": "NameError",
     "evalue": "name 'mpf' is not defined",
     "output_type": "error",
     "traceback": [
      "\u001b[1;31m---------------------------------------------------------------------------\u001b[0m",
      "\u001b[1;31mNameError\u001b[0m                                 Traceback (most recent call last)",
      "\u001b[1;32mc:\\Users\\kmeiermatt001\\Documents\\GitHub\\Python_Notes\\plots.ipynb Cell 20\u001b[0m in \u001b[0;36m<cell line: 1>\u001b[1;34m()\u001b[0m\n\u001b[1;32m----> <a href='vscode-notebook-cell:/c%3A/Users/kmeiermatt001/Documents/GitHub/Python_Notes/plots.ipynb#X30sZmlsZQ%3D%3D?line=0'>1</a>\u001b[0m mpf\u001b[39m.\u001b[39mplot(hist_df_view, \u001b[39mtype\u001b[39m \u001b[39m=\u001b[39m \u001b[39m'\u001b[39m\u001b[39mcandle\u001b[39m\u001b[39m'\u001b[39m, \n\u001b[0;32m      <a href='vscode-notebook-cell:/c%3A/Users/kmeiermatt001/Documents/GitHub/Python_Notes/plots.ipynb#X30sZmlsZQ%3D%3D?line=1'>2</a>\u001b[0m         style \u001b[39m=\u001b[39m \u001b[39m'\u001b[39m\u001b[39mcharles\u001b[39m\u001b[39m'\u001b[39m, \n\u001b[0;32m      <a href='vscode-notebook-cell:/c%3A/Users/kmeiermatt001/Documents/GitHub/Python_Notes/plots.ipynb#X30sZmlsZQ%3D%3D?line=2'>3</a>\u001b[0m         volume \u001b[39m=\u001b[39m \u001b[39mTrue\u001b[39;00m,\n\u001b[0;32m      <a href='vscode-notebook-cell:/c%3A/Users/kmeiermatt001/Documents/GitHub/Python_Notes/plots.ipynb#X30sZmlsZQ%3D%3D?line=3'>4</a>\u001b[0m         title \u001b[39m=\u001b[39m \u001b[39m'\u001b[39m\u001b[39mBTCUSD last 100 days\u001b[39m\u001b[39m'\u001b[39m,\n\u001b[0;32m      <a href='vscode-notebook-cell:/c%3A/Users/kmeiermatt001/Documents/GitHub/Python_Notes/plots.ipynb#X30sZmlsZQ%3D%3D?line=4'>5</a>\u001b[0m         mav \u001b[39m=\u001b[39m (\u001b[39m10\u001b[39m,\u001b[39m20\u001b[39m,\u001b[39m30\u001b[39m))\n",
      "\u001b[1;31mNameError\u001b[0m: name 'mpf' is not defined"
     ]
    }
   ],
   "source": []
  }
 ],
 "metadata": {
  "kernelspec": {
   "display_name": "base",
   "language": "python",
   "name": "python3"
  },
  "language_info": {
   "codemirror_mode": {
    "name": "ipython",
    "version": 3
   },
   "file_extension": ".py",
   "mimetype": "text/x-python",
   "name": "python",
   "nbconvert_exporter": "python",
   "pygments_lexer": "ipython3",
   "version": "3.9.12"
  },
  "orig_nbformat": 4,
  "vscode": {
   "interpreter": {
    "hash": "53c1b4b564eb55bc17be1301e8b58b40420bf6fa9bbd1b108c9f4fb3e216399e"
   }
  }
 },
 "nbformat": 4,
 "nbformat_minor": 2
}
