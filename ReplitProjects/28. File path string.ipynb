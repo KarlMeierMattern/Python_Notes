{
 "cells": [
  {
   "attachments": {},
   "cell_type": "markdown",
   "metadata": {},
   "source": [
    "### **28. Reading a CSV file, creating a folder, and creatinga  file**"
   ]
  },
  {
   "attachments": {},
   "cell_type": "markdown",
   "metadata": {},
   "source": [
    "The `os.path.join()` function is used to join the artist and song strings to create a file path string.  \n",
    "The `artist` string is formatted using an f-string with a forward slash `/` character appended to it, creating a directory path. The song string is then added to the end of the directory path to create the final file path.  \n",
    "This is used to create a file with that path in the following line of code where the file is opened with the `w` flag and then immediately closed."
   ]
  },
  {
   "cell_type": "code",
   "execution_count": null,
   "metadata": {},
   "outputs": [],
   "source": [
    "import csv, os\n",
    "\n",
    "# Read in the data\n",
    "with open(\"100MostStreamedSongs.csv\") as file:\n",
    "  reader = csv.DictReader(file)\n",
    "\n",
    "  # Categorize songs by artist\n",
    "  for row in reader:\n",
    "    # Lists all the files in the current directory\n",
    "    dir = os.listdir()\n",
    "    artist = row[\"Artist(s)\"].title()\n",
    "    # Creates a new folder\n",
    "    if artist not in dir:\n",
    "      os.mkdir(artist)\n",
    "    song = row[\"Song\"]\n",
    "    path = os.path.join(f\"{artist}/\", song)\n",
    "    f = open(path, \"w\")\n",
    "    f.close()"
   ]
  }
 ],
 "metadata": {
  "language_info": {
   "name": "python"
  },
  "orig_nbformat": 4
 },
 "nbformat": 4,
 "nbformat_minor": 2
}
