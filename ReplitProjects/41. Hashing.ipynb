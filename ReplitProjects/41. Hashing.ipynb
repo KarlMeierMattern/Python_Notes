{
 "cells": [
  {
   "cell_type": "code",
   "execution_count": null,
   "metadata": {},
   "outputs": [],
   "source": []
  },
  {
   "attachments": {},
   "cell_type": "markdown",
   "metadata": {},
   "source": [
    "In reality, organizations don't store your actual password. They store a hash of your password. A hash is produced by turning your password into a sequence of numbers, then passing it though a hashing algorithm (some mathematical process that is very difficult to reverse engineer). The data spit out of this hashing algorithm is what's stored instead of your actual password.  \n",
    "\n",
    "A string will always produce the same hashed value."
   ]
  },
  {
   "cell_type": "code",
   "execution_count": 1,
   "metadata": {},
   "outputs": [
    {
     "name": "stdout",
     "output_type": "stream",
     "text": [
      "042b32f48a4ea528c1a5353cebfd5cf714b850739c551edce160d470095d2920\n"
     ]
    }
   ],
   "source": [
    "import hashlib\n",
    "\n",
    "password = \"baldy1\"\n",
    "password_hash = hashlib.sha256(password.encode()).hexdigest() # used to create a SHA-256 hash object\n",
    "print(password_hash)"
   ]
  },
  {
   "attachments": {},
   "cell_type": "markdown",
   "metadata": {},
   "source": [
    "Hashing is great, but enterprising hackers have created their own database containing hashes of pretty much every word and common password around.  \n",
    "So chances are, if you use a common password or everyday word, then there's a hash of it sitting around on the internet somewhere just waiting for a reverse lookup.  \n",
    "To help combat this, we can generate a random value and append it to the end of your password before hashing. This random value is called a salt."
   ]
  },
  {
   "attachments": {},
   "cell_type": "markdown",
   "metadata": {},
   "source": [
    "### **My attempt**"
   ]
  },
  {
   "cell_type": "code",
   "execution_count": null,
   "metadata": {},
   "outputs": [],
   "source": [
    "from replit import db\n",
    "import random\n",
    "\n",
    "while True:\n",
    "  choice = int(input(\"1. Add\\n2. Login\\n\"))\n",
    "  if choice == 1:\n",
    "    username = input(\"Username: \")\n",
    "    password = input(\"Password: \")\n",
    "    salt = random.randint(1000,9999)\n",
    "    newPassword = f\"{password}{salt}\"\n",
    "    newPassword = hash(newPassword)\n",
    "    db[username] = {\"password\":newPassword, \"salt\":salt}\n",
    "  else:\n",
    "    while True:\n",
    "      username = input(\"Username: \")\n",
    "      password = input(\"Password: \")\n",
    "      salt = db[username][\"salt\"]\n",
    "      newPassword = f\"{password}{salt}\"\n",
    "      newPassword = hash(newPassword)\n",
    "      if newPassword == db[username][\"password\"]:\n",
    "        print(\"Login successful\")\n",
    "        break\n",
    "      else:\n",
    "        print(\"Please try again\")\n",
    "        break"
   ]
  },
  {
   "attachments": {},
   "cell_type": "markdown",
   "metadata": {},
   "source": [
    "### **Solution**"
   ]
  },
  {
   "cell_type": "code",
   "execution_count": null,
   "metadata": {},
   "outputs": [],
   "source": [
    "import os, time, random\n",
    "from replit import db\n",
    "\n",
    "def createUser():\n",
    "  time.sleep(1)\n",
    "  os.system(\"clear\")\n",
    "  username = input(\"Username: \")\n",
    "  password = input(\"Password: \")\n",
    "  keys = db.keys()\n",
    "  if username in keys:\n",
    "    print(\"ERROR: Username exists\")\n",
    "    return\n",
    "\n",
    "  salt = random.randint(1000, 9999)\n",
    "  newPassword = f\"{password}{salt}\"\n",
    "  newPassword = hash(newPassword)\n",
    "  \n",
    "  db[username] = {\"password\": newPassword, \"salt\": salt}\n",
    "\n",
    "  print(\"User added\")\n",
    "\n",
    "def login():\n",
    "  time.sleep(1)\n",
    "  os.system(\"clear\")\n",
    "  username = input(\"Username: \")\n",
    "  password = input(\"Password: \")\n",
    "  keys = db.keys()\n",
    "  if username not in keys:\n",
    "    print(\"ERROR: Username does not exists\")\n",
    "    return\n",
    "\n",
    "  salt = db[username][\"salt\"]\n",
    "  newPassword = f\"{password}{salt}\"\n",
    "  newPassword = hash(newPassword)\n",
    "\n",
    "  if db[username][\"password\"]==newPassword:\n",
    "    print(\"Logged in\")\n",
    "  else:\n",
    "    print(\"Username or password incorrect\")\n",
    "\n",
    "\n",
    "while True:\n",
    "  menu = input(\"1: New User\\n2: Login\\n> \")\n",
    "  if menu == \"1\":\n",
    "    createUser()\n",
    "  elif menu == \"2\":\n",
    "    login()\n",
    "  else:\n",
    "    keys = db.keys()\n",
    "    for key in keys:\n",
    "      print(db[key])"
   ]
  }
 ],
 "metadata": {
  "kernelspec": {
   "display_name": "Python 3",
   "language": "python",
   "name": "python3"
  },
  "language_info": {
   "codemirror_mode": {
    "name": "ipython",
    "version": 3
   },
   "file_extension": ".py",
   "mimetype": "text/x-python",
   "name": "python",
   "nbconvert_exporter": "python",
   "pygments_lexer": "ipython3",
   "version": "3.10.11"
  },
  "orig_nbformat": 4
 },
 "nbformat": 4,
 "nbformat_minor": 2
}
