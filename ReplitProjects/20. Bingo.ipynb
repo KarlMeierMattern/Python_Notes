{
 "cells": [
  {
   "attachments": {},
   "cell_type": "markdown",
   "metadata": {},
   "source": [
    "### **20. Bingo game**"
   ]
  },
  {
   "cell_type": "code",
   "execution_count": null,
   "metadata": {},
   "outputs": [],
   "source": [
    "import random\n",
    "\n",
    "def ran():\n",
    "  number = random.randint(1,90)\n",
    "  return number\n",
    "\n",
    "def prettyPrint():\n",
    "  for row in bingo:\n",
    "    for item in row:\n",
    "      print(f\"{item:^10}\", end=\" | \") \n",
    "    print()\n",
    "  print()\n",
    "\n",
    "numbers = []\n",
    "for i in range(8):\n",
    "  numbers.append(ran())\n",
    "\n",
    "numbers.sort()\n",
    "\n",
    "bingo = [ [ numbers[0], numbers[1], numbers[2]],\n",
    "          [ numbers[3], \"BINGO\", numbers[4] ],\n",
    "          [ numbers [5], numbers[6], numbers[7]]\n",
    "        ]\n",
    "\n",
    "\n",
    "while True:\n",
    "  prettyPrint()\n",
    "  print()\n",
    "  num = int(input(\"What number is up next?: \"))\n",
    "  for row in range(3):\n",
    "    for item in range(3):\n",
    "      if bingo[row][item] == num:\n",
    "        bingo[row][item] = 'X'\n",
    "      else:\n",
    "        continue\n",
    "\n",
    "  count = 0\n",
    "\n",
    "  for row in bingo:\n",
    "    for item in row:\n",
    "      if item == 'X':\n",
    "        count += 1\n",
    "      \n",
    "  if count == 8:\n",
    "    print(\"congrats you won\")\n",
    "    break\n",
    "  else:\n",
    "    continue"
   ]
  }
 ],
 "metadata": {
  "kernelspec": {
   "display_name": "base",
   "language": "python",
   "name": "python3"
  },
  "language_info": {
   "codemirror_mode": {
    "name": "ipython",
    "version": 3
   },
   "file_extension": ".py",
   "mimetype": "text/x-python",
   "name": "python",
   "nbconvert_exporter": "python",
   "pygments_lexer": "ipython3",
   "version": "3.9.12"
  },
  "orig_nbformat": 4,
  "vscode": {
   "interpreter": {
    "hash": "53c1b4b564eb55bc17be1301e8b58b40420bf6fa9bbd1b108c9f4fb3e216399e"
   }
  }
 },
 "nbformat": 4,
 "nbformat_minor": 2
}
