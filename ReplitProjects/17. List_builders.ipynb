{
 "cells": [
  {
   "attachments": {},
   "cell_type": "markdown",
   "metadata": {},
   "source": [
    "### **17. Creating, adding, editing lists**"
   ]
  },
  {
   "attachments": {},
   "cell_type": "markdown",
   "metadata": {},
   "source": [
    "### **Email spam**"
   ]
  },
  {
   "cell_type": "code",
   "execution_count": 1,
   "metadata": {},
   "outputs": [
    {
     "name": "stdout",
     "output_type": "stream",
     "text": [
      "SPAMMER Inc.\n",
      "SPAMMER Inc.\n",
      "Email 1\n",
      "    Dear jack@gmail.com\n",
      " \n",
      "    It has come to our attention that you're missing out on the amazing Replit 100 days of code.\n",
      "\n",
      "    We insist you do it right away.\n",
      "\n",
      "    Love and hugs,\n",
      "\n",
      "    Ian Spammington III\n"
     ]
    },
    {
     "ename": "IndexError",
     "evalue": "list index out of range",
     "output_type": "error",
     "traceback": [
      "\u001b[1;31m---------------------------------------------------------------------------\u001b[0m",
      "\u001b[1;31mIndexError\u001b[0m                                Traceback (most recent call last)",
      "\u001b[1;32mc:\\Users\\kmeiermatt001\\Documents\\GitHub\\Python_Notes\\ReplitProjects\\17. Email_spam.ipynb Cell 2\u001b[0m in \u001b[0;36m<cell line: 26>\u001b[1;34m()\u001b[0m\n\u001b[0;32m     <a href='vscode-notebook-cell:/c%3A/Users/kmeiermatt001/Documents/GitHub/Python_Notes/ReplitProjects/17.%20Email_spam.ipynb#W4sZmlsZQ%3D%3D?line=35'>36</a>\u001b[0m   prettyPrint()\n\u001b[0;32m     <a href='vscode-notebook-cell:/c%3A/Users/kmeiermatt001/Documents/GitHub/Python_Notes/ReplitProjects/17.%20Email_spam.ipynb#W4sZmlsZQ%3D%3D?line=36'>37</a>\u001b[0m \u001b[39melif\u001b[39;00m menu \u001b[39m==\u001b[39m\u001b[39m\"\u001b[39m\u001b[39m4\u001b[39m\u001b[39m\"\u001b[39m:\n\u001b[1;32m---> <a href='vscode-notebook-cell:/c%3A/Users/kmeiermatt001/Documents/GitHub/Python_Notes/ReplitProjects/17.%20Email_spam.ipynb#W4sZmlsZQ%3D%3D?line=37'>38</a>\u001b[0m   spam(\u001b[39m10\u001b[39;49m)\n\u001b[0;32m     <a href='vscode-notebook-cell:/c%3A/Users/kmeiermatt001/Documents/GitHub/Python_Notes/ReplitProjects/17.%20Email_spam.ipynb#W4sZmlsZQ%3D%3D?line=38'>39</a>\u001b[0m time\u001b[39m.\u001b[39msleep(\u001b[39m1\u001b[39m)\n\u001b[0;32m     <a href='vscode-notebook-cell:/c%3A/Users/kmeiermatt001/Documents/GitHub/Python_Notes/ReplitProjects/17.%20Email_spam.ipynb#W4sZmlsZQ%3D%3D?line=39'>40</a>\u001b[0m os\u001b[39m.\u001b[39msystem(\u001b[39m\"\u001b[39m\u001b[39mclear\u001b[39m\u001b[39m\"\u001b[39m)\n",
      "\u001b[1;32mc:\\Users\\kmeiermatt001\\Documents\\GitHub\\Python_Notes\\ReplitProjects\\17. Email_spam.ipynb Cell 2\u001b[0m in \u001b[0;36mspam\u001b[1;34m(max)\u001b[0m\n\u001b[0;32m     <a href='vscode-notebook-cell:/c%3A/Users/kmeiermatt001/Documents/GitHub/Python_Notes/ReplitProjects/17.%20Email_spam.ipynb#W4sZmlsZQ%3D%3D?line=13'>14</a>\u001b[0m \u001b[39mdef\u001b[39;00m \u001b[39mspam\u001b[39m(\u001b[39mmax\u001b[39m):\n\u001b[0;32m     <a href='vscode-notebook-cell:/c%3A/Users/kmeiermatt001/Documents/GitHub/Python_Notes/ReplitProjects/17.%20Email_spam.ipynb#W4sZmlsZQ%3D%3D?line=14'>15</a>\u001b[0m   \u001b[39mfor\u001b[39;00m i \u001b[39min\u001b[39;00m \u001b[39mrange\u001b[39m(\u001b[39m0\u001b[39m,\u001b[39mmax\u001b[39m):\n\u001b[0;32m     <a href='vscode-notebook-cell:/c%3A/Users/kmeiermatt001/Documents/GitHub/Python_Notes/ReplitProjects/17.%20Email_spam.ipynb#W4sZmlsZQ%3D%3D?line=15'>16</a>\u001b[0m     \u001b[39mprint\u001b[39m(\u001b[39mf\u001b[39m\u001b[39m\"\"\"\u001b[39m\u001b[39mEmail \u001b[39m\u001b[39m{\u001b[39;00mi\u001b[39m+\u001b[39m\u001b[39m1\u001b[39m\u001b[39m}\u001b[39;00m\n\u001b[1;32m---> <a href='vscode-notebook-cell:/c%3A/Users/kmeiermatt001/Documents/GitHub/Python_Notes/ReplitProjects/17.%20Email_spam.ipynb#W4sZmlsZQ%3D%3D?line=16'>17</a>\u001b[0m \u001b[39m    Dear \u001b[39m\u001b[39m{\u001b[39;00mlistOfEmail[i]\u001b[39m}\u001b[39;00m\u001b[39m\\n\u001b[39;00m\u001b[39m \u001b[39m\n\u001b[0;32m     <a href='vscode-notebook-cell:/c%3A/Users/kmeiermatt001/Documents/GitHub/Python_Notes/ReplitProjects/17.%20Email_spam.ipynb#W4sZmlsZQ%3D%3D?line=17'>18</a>\u001b[0m \u001b[39m    It has come to our attention that you\u001b[39m\u001b[39m'\u001b[39m\u001b[39mre missing out on the amazing Replit 100 days of code.\u001b[39m\u001b[39m\\n\u001b[39;00m\n\u001b[0;32m     <a href='vscode-notebook-cell:/c%3A/Users/kmeiermatt001/Documents/GitHub/Python_Notes/ReplitProjects/17.%20Email_spam.ipynb#W4sZmlsZQ%3D%3D?line=18'>19</a>\u001b[0m \u001b[39m    We insist you do it right away.\u001b[39m\u001b[39m\\n\u001b[39;00m\n\u001b[0;32m     <a href='vscode-notebook-cell:/c%3A/Users/kmeiermatt001/Documents/GitHub/Python_Notes/ReplitProjects/17.%20Email_spam.ipynb#W4sZmlsZQ%3D%3D?line=19'>20</a>\u001b[0m \u001b[39m    Love and hugs,\u001b[39m\u001b[39m\\n\u001b[39;00m\n\u001b[0;32m     <a href='vscode-notebook-cell:/c%3A/Users/kmeiermatt001/Documents/GitHub/Python_Notes/ReplitProjects/17.%20Email_spam.ipynb#W4sZmlsZQ%3D%3D?line=20'>21</a>\u001b[0m \u001b[39m    Ian Spammington III\u001b[39m\u001b[39m\"\"\"\u001b[39m)\n\u001b[0;32m     <a href='vscode-notebook-cell:/c%3A/Users/kmeiermatt001/Documents/GitHub/Python_Notes/ReplitProjects/17.%20Email_spam.ipynb#W4sZmlsZQ%3D%3D?line=21'>22</a>\u001b[0m     time\u001b[39m.\u001b[39msleep(\u001b[39m5\u001b[39m)\n\u001b[0;32m     <a href='vscode-notebook-cell:/c%3A/Users/kmeiermatt001/Documents/GitHub/Python_Notes/ReplitProjects/17.%20Email_spam.ipynb#W4sZmlsZQ%3D%3D?line=22'>23</a>\u001b[0m     os\u001b[39m.\u001b[39msystem(\u001b[39m\"\u001b[39m\u001b[39mclear\u001b[39m\u001b[39m\"\u001b[39m)\n",
      "\u001b[1;31mIndexError\u001b[0m: list index out of range"
     ]
    }
   ],
   "source": [
    "import os, time\n",
    "listOfEmail = []\n",
    "\n",
    "def prettyPrint():\n",
    "  os.system(\"clear\")\n",
    "  print(\"listOfEmail\")\n",
    "  print()\n",
    "  counter = 1\n",
    "  for email in listOfEmail:\n",
    "    print(f\"{counter}: {email}\")\n",
    "    counter+=1\n",
    "  time.sleep(1)\n",
    "\n",
    "def spam(max):\n",
    "  for i in range(0,max):\n",
    "    print(f\"\"\"Email {i+1}\n",
    "    Dear {listOfEmail[i]}\\n \n",
    "    It has come to our attention that you're missing out on the amazing Replit 100 days of code.\\n\n",
    "    We insist you do it right away.\\n\n",
    "    Love and hugs,\\n\n",
    "    Ian Spammington III\"\"\")\n",
    "    time.sleep(5)\n",
    "    os.system(\"clear\")\n",
    "    \n",
    "while True:\n",
    "  print(\"SPAMMER Inc.\")\n",
    "  menu = input(\"1: Add email\\n2: Remove email\\n3: Show emails\\n4: Get SPAMMING\\n> \")\n",
    "  if menu == \"1\":\n",
    "    email = input(\"Email > \")\n",
    "    listOfEmail.append(email)\n",
    "  elif menu== \"2\":\n",
    "    email = input(\"Email > \")\n",
    "    if email in listOfEmail:\n",
    "      listOfEmail.remove(email)\n",
    "  elif menu == \"3\":\n",
    "    prettyPrint()\n",
    "  elif menu ==\"4\":\n",
    "    spam(10)\n",
    "  time.sleep(1)\n",
    "  os.system(\"clear\")"
   ]
  },
  {
   "attachments": {},
   "cell_type": "markdown",
   "metadata": {},
   "source": [
    "### **To-do list builder**"
   ]
  },
  {
   "cell_type": "code",
   "execution_count": null,
   "metadata": {},
   "outputs": [],
   "source": [
    "import os, time\n",
    "toDoList = []\n",
    "\n",
    "def printList():\n",
    "  print()\n",
    "  for items in toDoList:\n",
    "    print(items)\n",
    "  print()\n",
    "\n",
    "while True:\n",
    "  menu = input(\"ToDo List Manager\\nDo you want to view, add, edit, remove or delete the todo list?\\n\")\n",
    "  if menu==\"view\":\n",
    "    printList()\n",
    "  elif menu==\"add\":\n",
    "    item = input(\"What do you want to add?\\n\").title()\n",
    "    toDoList.append(item)\n",
    "  elif menu==\"remove\":\n",
    "    item = input(\"What do you want to remove?\\n\").title()\n",
    "    check = input(\"Are you sure you want to remove this?\\n\")\n",
    "    if check[0]==\"y\":\n",
    "      if item in toDoList:\n",
    "        toDoList.remove(item)\n",
    "  elif menu==\"edit\":\n",
    "    item = input(\"What do you want to edit?\\n\").title()\n",
    "    new = input(\"What do you want to change it to?\\n\").title()\n",
    "    for i in range(0,len(toDoList)):\n",
    "      if toDoList[i]==item:\n",
    "        toDoList[i]=new\n",
    "  elif menu==\"delete\":\n",
    "    toDoList = []\n",
    "  time.sleep(1)\n",
    "  os.system('clear')"
   ]
  }
 ],
 "metadata": {
  "kernelspec": {
   "display_name": "base",
   "language": "python",
   "name": "python3"
  },
  "language_info": {
   "codemirror_mode": {
    "name": "ipython",
    "version": 3
   },
   "file_extension": ".py",
   "mimetype": "text/x-python",
   "name": "python",
   "nbconvert_exporter": "python",
   "pygments_lexer": "ipython3",
   "version": "3.9.12"
  },
  "orig_nbformat": 4
 },
 "nbformat": 4,
 "nbformat_minor": 2
}
