{
 "cells": [
  {
   "attachments": {},
   "cell_type": "markdown",
   "metadata": {},
   "source": [
    "### **17. Creating, adding, editing lists**"
   ]
  },
  {
   "attachments": {},
   "cell_type": "markdown",
   "metadata": {},
   "source": [
    "### **Email spam**"
   ]
  },
  {
   "cell_type": "code",
   "execution_count": null,
   "metadata": {},
   "outputs": [],
   "source": [
    "import os, time\n",
    "listOfEmail = []\n",
    "\n",
    "def prettyPrint():\n",
    "  os.system(\"clear\")\n",
    "  print(\"listOfEmail\")\n",
    "  print()\n",
    "  counter = 1\n",
    "  for email in listOfEmail:\n",
    "    print(f\"{counter}: {email}\")\n",
    "    counter+=1\n",
    "  time.sleep(1)\n",
    "\n",
    "def spam(max):\n",
    "  for i in range(0,max):\n",
    "    print(f\"\"\"Email {i+1}\n",
    "    Dear {listOfEmail[i]}\\n \n",
    "    It has come to our attention that you're missing out on the amazing Replit 100 days of code.\\n\n",
    "    We insist you do it right away.\\n\n",
    "    Love and hugs,\\n\n",
    "    Ian Spammington III\"\"\")\n",
    "    time.sleep(5)\n",
    "    os.system(\"clear\")\n",
    "    \n",
    "while True:\n",
    "  print(\"SPAMMER Inc.\")\n",
    "  menu = input(\"1: Add email\\n2: Remove email\\n3: Show emails\\n4: Get SPAMMING\\n> \")\n",
    "  if menu == \"1\":\n",
    "    email = input(\"Email > \")\n",
    "    listOfEmail.append(email)\n",
    "  elif menu== \"2\":\n",
    "    email = input(\"Email > \")\n",
    "    if email in listOfEmail:\n",
    "      listOfEmail.remove(email)\n",
    "  elif menu == \"3\":\n",
    "    prettyPrint()\n",
    "  elif menu ==\"4\":\n",
    "    spam(10)\n",
    "  time.sleep(1)\n",
    "  os.system(\"clear\")"
   ]
  },
  {
   "attachments": {},
   "cell_type": "markdown",
   "metadata": {},
   "source": [
    "### **To-do list builder**"
   ]
  },
  {
   "cell_type": "code",
   "execution_count": null,
   "metadata": {},
   "outputs": [],
   "source": [
    "import os, time\n",
    "toDoList = []\n",
    "\n",
    "def printList():\n",
    "  print()\n",
    "  for items in toDoList:\n",
    "    print(items)\n",
    "  print()\n",
    "\n",
    "while True:\n",
    "  menu = input(\"ToDo List Manager\\nDo you want to view, add, edit, remove or delete the todo list?\\n\")\n",
    "  if menu==\"view\":\n",
    "    printList()\n",
    "  elif menu==\"add\":\n",
    "    item = input(\"What do you want to add?\\n\").title()\n",
    "    toDoList.append(item)\n",
    "  elif menu==\"remove\":\n",
    "    item = input(\"What do you want to remove?\\n\").title()\n",
    "    check = input(\"Are you sure you want to remove this?\\n\")\n",
    "    if check[0]==\"y\":\n",
    "      if item in toDoList:\n",
    "        toDoList.remove(item)\n",
    "  elif menu==\"edit\":\n",
    "    item = input(\"What do you want to edit?\\n\").title()\n",
    "    new = input(\"What do you want to change it to?\\n\").title()\n",
    "    for i in range(0,len(toDoList)):\n",
    "      if toDoList[i]==item:\n",
    "        toDoList[i]=new\n",
    "  elif menu==\"delete\":\n",
    "    toDoList = []\n",
    "  time.sleep(1)\n",
    "  os.system('clear')"
   ]
  }
 ],
 "metadata": {
  "kernelspec": {
   "display_name": "base",
   "language": "python",
   "name": "python3"
  },
  "language_info": {
   "codemirror_mode": {
    "name": "ipython",
    "version": 3
   },
   "file_extension": ".py",
   "mimetype": "text/x-python",
   "name": "python",
   "nbconvert_exporter": "python",
   "pygments_lexer": "ipython3",
   "version": "3.9.12"
  },
  "orig_nbformat": 4,
  "vscode": {
   "interpreter": {
    "hash": "53c1b4b564eb55bc17be1301e8b58b40420bf6fa9bbd1b108c9f4fb3e216399e"
   }
  }
 },
 "nbformat": 4,
 "nbformat_minor": 2
}
