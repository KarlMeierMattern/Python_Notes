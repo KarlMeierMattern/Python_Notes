{
 "cells": [
  {
   "attachments": {},
   "cell_type": "markdown",
   "metadata": {},
   "source": [
    "### **Hangman game**"
   ]
  },
  {
   "attachments": {},
   "cell_type": "markdown",
   "metadata": {},
   "source": [
    "### **My version**"
   ]
  },
  {
   "cell_type": "code",
   "execution_count": 8,
   "metadata": {},
   "outputs": [
    {
     "name": "stdout",
     "output_type": "stream",
     "text": [
      "\n",
      "You found a letter\n",
      "You have lost 0 lives. 6 lives remain\n",
      "__a_\n",
      "\n",
      "You found a letter\n",
      "You have lost 0 lives. 6 lives remain\n",
      "p_a_\n",
      "\n",
      "You found a letter\n",
      "You have lost 0 lives. 6 lives remain\n",
      "p_a_\n",
      "\n",
      "You found a letter\n",
      "You have lost 0 lives. 6 lives remain\n",
      "pea_\n",
      "\n",
      "You found a letter\n",
      "You have lost 0 lives. 6 lives remain\n",
      "pear\n",
      "You won with 6 left!\n"
     ]
    }
   ],
   "source": [
    "import random, os, time\n",
    "\n",
    "listOfWords = [\"apple\", \"orange\", \"grapes\", \"pear\"]\n",
    "letterPicked = []\n",
    "lives_lost = 0\n",
    "\n",
    "word = random.choice(listOfWords)\n",
    "\n",
    "while True:\n",
    "    time.sleep(1)\n",
    "    os.system(\"clear\")\n",
    "\n",
    "    letter = input(\"Pick a letter: \")\n",
    "\n",
    "    if lives_lost > 6:\n",
    "        print(\"You have lost all your lives. GAME OVER\")\n",
    "        exit()\n",
    "    else:\n",
    "        if letter in letterPicked:\n",
    "            print(\"That letter has been chosen already\")\n",
    "        else:\n",
    "            letterPicked.append(letter)\n",
    "            if letter in word:\n",
    "                print()\n",
    "                print(\"You found a letter\")\n",
    "                print(f\"You have lost {lives_lost} lives. {6 - lives_lost} lives remain\")\n",
    "                allLetters = True\n",
    "                for i in word:\n",
    "                    if i in letterPicked:\n",
    "                        print(i, end = \"\")\n",
    "                    else:\n",
    "                        print(\"_\", end = \"\")\n",
    "                        allLetters = False\n",
    "                if allLetters:\n",
    "                    print(f\"\\nYou won with {6 - lives_lost} left!\")\n",
    "                    break\n",
    "                print()\n",
    "            else:\n",
    "                print()\n",
    "                print(\"That is incorrect\")\n",
    "                print(f\"You have lost {lives_lost} lives. {6 - lives_lost} lives remain\")\n",
    "                print()\n",
    "                lives_lost += 1"
   ]
  },
  {
   "attachments": {},
   "cell_type": "markdown",
   "metadata": {},
   "source": [
    "### **Solution**"
   ]
  },
  {
   "cell_type": "code",
   "execution_count": 2,
   "metadata": {},
   "outputs": [
    {
     "name": "stdout",
     "output_type": "stream",
     "text": [
      "You found a letter\n",
      "\n",
      "__a_\n",
      "Only 6 left\n",
      "Nope, not in there\n",
      "\n",
      "__a_\n",
      "Only 5 left\n",
      "You found a letter\n",
      "\n",
      "__ar\n",
      "Only 5 left\n",
      "You found a letter\n",
      "\n",
      "p_ar\n",
      "Only 5 left\n",
      "You found a letter\n",
      "\n",
      "pear\n",
      "You won with 5 left!\n"
     ]
    }
   ],
   "source": [
    "import random, os, time\n",
    "\n",
    "listOfWords = [\"apple\", \"orange\", \"grapes\", \"pear\"]\n",
    "letterPicked = []\n",
    "lives = 6\n",
    "\n",
    "word = random.choice(listOfWords)\n",
    "\n",
    "while True:\n",
    "  time.sleep(1)\n",
    "  os.system(\"clear\")\n",
    "  letter = input(\"Choose a letter: \").lower()\n",
    "  \n",
    "  if letter in letterPicked:\n",
    "    print(\"You've tried that before\")\n",
    "    continue\n",
    "    \n",
    "  letterPicked.append(letter)\n",
    "  \n",
    "  if letter in word:\n",
    "    print(\"You found a letter\")\n",
    "  else:\n",
    "    print(\"Nope, not in there\")\n",
    "    lives -= 1\n",
    "  \n",
    "  allLetters = True\n",
    "  print()\n",
    "  for i in word:\n",
    "    if i in letterPicked:\n",
    "      print(i, end=\"\")\n",
    "    else:\n",
    "      print(\"_\", end=\"\")\n",
    "      allLetters = False\n",
    "  print()\n",
    "\n",
    "  if allLetters:\n",
    "    print(f\"You won with {lives} left!\")\n",
    "    break\n",
    "\n",
    "  if lives<=0:\n",
    "    print(f\"You ran out of lives! The answer was {word}\")\n",
    "    break\n",
    "  else:\n",
    "    print(f\"Only {lives} left\")"
   ]
  }
 ],
 "metadata": {
  "kernelspec": {
   "display_name": "base",
   "language": "python",
   "name": "python3"
  },
  "language_info": {
   "codemirror_mode": {
    "name": "ipython",
    "version": 3
   },
   "file_extension": ".py",
   "mimetype": "text/x-python",
   "name": "python",
   "nbconvert_exporter": "python",
   "pygments_lexer": "ipython3",
   "version": "3.9.12"
  },
  "orig_nbformat": 4,
  "vscode": {
   "interpreter": {
    "hash": "53c1b4b564eb55bc17be1301e8b58b40420bf6fa9bbd1b108c9f4fb3e216399e"
   }
  }
 },
 "nbformat": 4,
 "nbformat_minor": 2
}
