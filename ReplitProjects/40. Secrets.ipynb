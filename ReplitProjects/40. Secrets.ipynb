{
 "cells": [
  {
   "attachments": {},
   "cell_type": "markdown",
   "metadata": {},
   "source": [
    "### **40. Secrets**"
   ]
  },
  {
   "attachments": {},
   "cell_type": "markdown",
   "metadata": {},
   "source": [
    "The program below won't work in this environment as it uses Replit's built-in *secrets* functionality to store information like passwords"
   ]
  },
  {
   "cell_type": "code",
   "execution_count": null,
   "metadata": {},
   "outputs": [],
   "source": [
    "import os, time\n",
    "\n",
    "user = int(input(\"1. Admin\\n2. Normal\\n\"))\n",
    "\n",
    "if user == 1:\n",
    "  os.system(\"clear\")\n",
    "  admin = os.environ['admin']\n",
    "  while True:\n",
    "    time.sleep(1)\n",
    "    os.system(\"clear\")\n",
    "    userPass = input(\"Password:\\n\")\n",
    "    if userPass == admin:\n",
    "      print(\"Your're in\")\n",
    "      break\n",
    "    else:\n",
    "      print(\"Incorrect login, please try again\")\n",
    "else:\n",
    "  normal = os.environ['normal']\n",
    "  while True:\n",
    "    time.sleep(1)\n",
    "    os.system(\"clear\")\n",
    "    userPass = input(\"Password:\\n\")\n",
    "    if userPass == normal:\n",
    "      print(\"Your're in\")\n",
    "      break\n",
    "    else:\n",
    "      print(\"Incorrect login, please try again\")"
   ]
  }
 ],
 "metadata": {
  "language_info": {
   "name": "python"
  },
  "orig_nbformat": 4
 },
 "nbformat": 4,
 "nbformat_minor": 2
}
