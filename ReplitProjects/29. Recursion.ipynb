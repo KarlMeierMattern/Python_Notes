{
 "cells": [
  {
   "attachments": {},
   "cell_type": "markdown",
   "metadata": {},
   "source": [
    "### **29. Recursion**"
   ]
  },
  {
   "cell_type": "code",
   "execution_count": null,
   "metadata": {},
   "outputs": [],
   "source": [
    "def reverse(value):\n",
    "  if value <= 0:\n",
    "    print(\"Done!\")\n",
    "    return\n",
    "  # This `if` provides the 'stop' condition for the program. Otherwise it would run forever.\n",
    "\n",
    "  else: # if we're not at the stop condition.\n",
    "    for i in range(value):\n",
    "      print(\"💯\", end=\"\") # Outputs 'value' emojis\n",
    "    print() # New line\n",
    "    reverse(value - 2) # takes 2 off the value and calls the subroutine again with this new number. Eg if value was 7 it would call 'reverse(value)' again with value as 5.\n",
    "reverse(10)"
   ]
  },
  {
   "attachments": {},
   "cell_type": "markdown",
   "metadata": {},
   "source": [
    "### **Factorial function using recursion**"
   ]
  },
  {
   "attachments": {},
   "cell_type": "markdown",
   "metadata": {},
   "source": [
    "In the line return n * fact(n-1), we are using recursion to calculate the factorial of n.\n",
    "\n",
    "Let's say we want to calculate the factorial of 5. According to the factorial definition, 5! is equal to 5 * 4 * 3 * 2 * 1. In the first call to the fact function, n is equal to 5. The function checks that n is not equal to 0 and returns the value 5 * fact(4).\n",
    "\n",
    "In the next call to the fact function, n is equal to 4. Again, the function checks that n is not equal to 0 and returns the value 4 * fact(3). This continues until the base case of n being equal to 0 is reached, at which point the function returns the value 1.\n",
    "\n",
    "At this point, the **recursion unwinds/rolls ups** and the multiplication of all the values takes place.  \n",
    "\n",
    "fact(5) returns 5 * fact(4)  \n",
    "fact(4) returns 4 * fact(3)  \n",
    "fact(3) returns 3 * fact(2)  \n",
    "fact(2) returns 2 * fact(1)  \n",
    "fact(1) returns 1 * fact(0)  \n",
    "fact(0) returns 1  \n",
    "\n",
    "Think about it like this:  \n",
    "fact(5)  \n",
    "= 5 * fact(4); which equals  \n",
    "= 5 * 4 * fact(3); which equals  \n",
    "= 5 * 4 * 3 * fact(2); which equals  \n",
    "= 5 * 4 * 3 * 2 * fact(1); which equals  \n",
    "= 5 * 4 * 3 * 2 * 1 * fact(0); which equals  \n",
    "= 5 * 4 * 3 * 2 * 1 * 1  \n",
    "\n",
    "So, in summary, return n * fact(n-1) is the recursive step of the function that calculates the factorial of n by multiplying n with the factorial of n-1."
   ]
  },
  {
   "cell_type": "code",
   "execution_count": 3,
   "metadata": {},
   "outputs": [
    {
     "name": "stdout",
     "output_type": "stream",
     "text": [
      "120\n"
     ]
    }
   ],
   "source": [
    "def fact(n):\n",
    "  if n < 0:\n",
    "    return None\n",
    "  elif n == 0:\n",
    "    return 1\n",
    "  else:\n",
    "    return n * fact(n-1)\n",
    "\n",
    "print(fact(5)) # Output: 120"
   ]
  }
 ],
 "metadata": {
  "kernelspec": {
   "display_name": "Python 3",
   "language": "python",
   "name": "python3"
  },
  "language_info": {
   "codemirror_mode": {
    "name": "ipython",
    "version": 3
   },
   "file_extension": ".py",
   "mimetype": "text/x-python",
   "name": "python",
   "nbconvert_exporter": "python",
   "pygments_lexer": "ipython3",
   "version": "3.10.11"
  },
  "orig_nbformat": 4
 },
 "nbformat": 4,
 "nbformat_minor": 2
}
