{
 "cells": [
  {
   "attachments": {},
   "cell_type": "markdown",
   "metadata": {},
   "source": [
    "### **30. Returning a function**"
   ]
  },
  {
   "attachments": {},
   "cell_type": "markdown",
   "metadata": {},
   "source": [
    "When the line `totalAttempts += game()` is executed in the main part of the code, it calls the `game()` function.  \n",
    "The `game()` function performs the guessing game logic, including tracking the number of attempts.  \n",
    "When the game finishes and returns the number of `attempts` made, that value is added to the `totalAttempts` variable using the `+=` operator.  \n",
    "So, each time the `game()` function is called, it returns the number of `attempts` made in that particular round. This return value is then added to the `totalAttempts` variable, which keeps track of the cumulative number of attempts made in the `game()`"
   ]
  },
  {
   "cell_type": "code",
   "execution_count": null,
   "metadata": {},
   "outputs": [],
   "source": [
    "import random, os, time\n",
    "totalAttempts = 0\n",
    "\n",
    "def game():\n",
    "  attempts = 0\n",
    "  number = random.randint(1,100)\n",
    "  while True:\n",
    "    guess = int(input(\"Pick a number between 1 and 100: \"))\n",
    "    if guess > number:  \n",
    "      print(\"Too high\")\n",
    "      attempts+=1\n",
    "    elif guess < number:\n",
    "      print(\"Too low\")\n",
    "      attempts+=1\n",
    "    else:\n",
    "      print(\"Just right!\")\n",
    "      print(f\"{attempts} attempts this round\")\n",
    "      return attempts\n",
    "\n",
    "while True:\n",
    "  menu = int(input(\"1: Guess the random number game\\n2: Total Score\\n3: Exit\\n> \"))\n",
    "  if menu == 1:\n",
    "    totalAttempts+= game()\n",
    "  elif menu == 2:\n",
    "    print(f\"You've had {totalAttempts} attempts\")\n",
    "  else:\n",
    "    break"
   ]
  }
 ],
 "metadata": {
  "language_info": {
   "name": "python"
  },
  "orig_nbformat": 4
 },
 "nbformat": 4,
 "nbformat_minor": 2
}
