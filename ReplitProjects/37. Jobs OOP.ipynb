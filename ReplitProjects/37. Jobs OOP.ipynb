{
 "cells": [
  {
   "attachments": {},
   "cell_type": "markdown",
   "metadata": {},
   "source": [
    "### **37. Represent jobs using OOP, methods, and inheritance**"
   ]
  },
  {
   "cell_type": "code",
   "execution_count": 2,
   "metadata": {},
   "outputs": [
    {
     "name": "stdout",
     "output_type": "stream",
     "text": [
      "Job type: Teacher\n",
      "Salary: $50,000\n",
      "Hours worked: 40\n",
      "Subject: Computer science\n",
      "Position: Classroom Teacher\n",
      "\n",
      "Job type: Lawyer\n",
      "Salary: $1000,000\n",
      "Hours worked: 60\n",
      "\n",
      "Job type: Doctor\n",
      "Salary: $100,000\n",
      "Hours worked: 100\n",
      "Speciality: Pediatric Consultant\n",
      "Year of experience: 7\n"
     ]
    }
   ],
   "source": [
    "class job:\n",
    "  name = None\n",
    "  salary = None\n",
    "  hours = None\n",
    " \n",
    "  def __init__(self, name, salary, hours):\n",
    "    self.name = name\n",
    "    self.salary = salary\n",
    "    self.hours = hours\n",
    "\n",
    "  # Method\n",
    "  def prettyPrint(self):\n",
    "    print(f\"Job type: {self.name}\\nSalary: {self.salary}\\nHours worked: {self.hours}\")\n",
    "      \n",
    "class doctor(job):\n",
    "  \n",
    "  def __init__(self, speciality, years_of_experience):\n",
    "    self.name = \"Doctor\"\n",
    "    self.salary = \"$100,000\"\n",
    "    self.hours = \"100\"\n",
    "    self.speciality = speciality\n",
    "    self.years_of_experience = years_of_experience\n",
    "\n",
    "  # Method\n",
    "  def prettyPrint(self):\n",
    "    print(f\"Job type: {self.name}\\nSalary: {self.salary}\\nHours worked: {self.hours}\\nSpeciality: {self.speciality}\\nYear of experience: {self.years_of_experience}\")\n",
    "   \n",
    "class teacher(job):\n",
    "\n",
    "  def __init__(self, subject, position):\n",
    "    self.name = \"Teacher\"\n",
    "    self.salary = \"$50,000\"\n",
    "    self.hours = \"40\"\n",
    "    self.subject = subject\n",
    "    self.position = position\n",
    "  \n",
    "  # Method\n",
    "  def prettyPrint(self):\n",
    "    print(f\"Job type: {self.name}\\nSalary: {self.salary}\\nHours worked: {self.hours}\\nSubject: {self.subject}\\nPosition: {self.position}\")\n",
    "\n",
    "\n",
    "teach = teacher(\"Computer science\", \"Classroom Teacher\")\n",
    "teach.prettyPrint()\n",
    "\n",
    "print()\n",
    "\n",
    "law = job(\"Lawyer\", \"$1000,000\", \"60\")\n",
    "law.prettyPrint()\n",
    "\n",
    "print()\n",
    "\n",
    "doc = doctor(\"Pediatric Consultant\", \"7\")\n",
    "doc.prettyPrint()"
   ]
  }
 ],
 "metadata": {
  "kernelspec": {
   "display_name": "Python 3",
   "language": "python",
   "name": "python3"
  },
  "language_info": {
   "codemirror_mode": {
    "name": "ipython",
    "version": 3
   },
   "file_extension": ".py",
   "mimetype": "text/x-python",
   "name": "python",
   "nbconvert_exporter": "python",
   "pygments_lexer": "ipython3",
   "version": "3.10.11"
  },
  "orig_nbformat": 4
 },
 "nbformat": 4,
 "nbformat_minor": 2
}
