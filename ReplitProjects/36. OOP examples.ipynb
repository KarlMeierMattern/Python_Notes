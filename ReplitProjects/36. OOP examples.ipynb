{
 "cells": [
  {
   "attachments": {},
   "cell_type": "markdown",
   "metadata": {},
   "source": [
    "### **36. OOP examples**"
   ]
  },
  {
   "cell_type": "code",
   "execution_count": 1,
   "metadata": {},
   "outputs": [
    {
     "name": "stdout",
     "output_type": "stream",
     "text": [
      "Brian\n",
      "Moo\n"
     ]
    }
   ],
   "source": [
    "class animal:\n",
    "  species = None\n",
    "  name = None\n",
    "  sound = None\n",
    "  # Sets the characteristics\n",
    "\n",
    "  def __init__(self, name, species, sound):\n",
    "    self.name = name\n",
    "    self.species = species\n",
    "    self.sound = sound\n",
    "\n",
    "dog = animal(\"Brian\", \"Canine\", \"Woof\")\n",
    "print(dog.name)\n",
    "\n",
    "##### THE NEW BIT ################\n",
    "cow = animal(\"Ermintrude\", \"Bo Taurus\", \"Moo\")\n",
    "print(cow.sound)"
   ]
  },
  {
   "attachments": {},
   "cell_type": "markdown",
   "metadata": {},
   "source": [
    "### **Methods**"
   ]
  },
  {
   "attachments": {},
   "cell_type": "markdown",
   "metadata": {},
   "source": [
    "Subroutines inside an object are called methods.  "
   ]
  },
  {
   "cell_type": "code",
   "execution_count": 3,
   "metadata": {},
   "outputs": [
    {
     "name": "stdout",
     "output_type": "stream",
     "text": [
      "Brian says Woof\n",
      "Ermintrude says Moo\n"
     ]
    }
   ],
   "source": [
    "class animal:\n",
    "    species = None  \n",
    "    name = None  \n",
    "    sound = None  \n",
    "\n",
    "    def __init__(self, name, species, sound):  \n",
    "        self.name = name  \n",
    "        self.species = species  \n",
    "        self.sound = sound  \n",
    "\n",
    "    # Method\n",
    "    def talk(self):  \n",
    "        print((f\"{self.name} says {self.sound}\"))  \n",
    "\n",
    "dog = animal(\"Brian\", \"Canine\", \"Woof\")  \n",
    "dog.talk()  \n",
    "\n",
    "cow = animal(\"Ermintrude\", \"Bo Taurus\", \"Moo\")  \n",
    "cow.talk()"
   ]
  },
  {
   "attachments": {},
   "cell_type": "markdown",
   "metadata": {},
   "source": [
    "### **Inheritance**"
   ]
  },
  {
   "attachments": {},
   "cell_type": "markdown",
   "metadata": {},
   "source": [
    "Inheritance means creating sub-classes that use all the attributes and methods from the main class, but also add their own attributes."
   ]
  },
  {
   "cell_type": "code",
   "execution_count": 5,
   "metadata": {},
   "outputs": [
    {
     "name": "stdout",
     "output_type": "stream",
     "text": [
      "Bird\n"
     ]
    }
   ],
   "source": [
    "class animal:\n",
    "    species = None  \n",
    "    name = None  \n",
    "    sound = None  \n",
    "\n",
    "    def __init__(self, name, species, sound):  \n",
    "        self.name = name  \n",
    "        self.species = species  \n",
    "        self.sound = sound  \n",
    "\n",
    "class bird(animal):  \n",
    "\n",
    "    def __init__(self, color):  \n",
    "        self.name = \"Bird\"  \n",
    "        self.species = \"Avian\"  \n",
    "        self.sound = \"Tweet\"  \n",
    "        self.color = color  \n",
    "\n",
    "polly = bird(\"Green\")  \n",
    "print(polly.name)  "
   ]
  }
 ],
 "metadata": {
  "kernelspec": {
   "display_name": "Python 3",
   "language": "python",
   "name": "python3"
  },
  "language_info": {
   "codemirror_mode": {
    "name": "ipython",
    "version": 3
   },
   "file_extension": ".py",
   "mimetype": "text/x-python",
   "name": "python",
   "nbconvert_exporter": "python",
   "pygments_lexer": "ipython3",
   "version": "3.10.11"
  },
  "orig_nbformat": 4
 },
 "nbformat": 4,
 "nbformat_minor": 2
}
