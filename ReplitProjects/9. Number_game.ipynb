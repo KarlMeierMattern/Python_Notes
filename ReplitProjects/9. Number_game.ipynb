{
 "cells": [
  {
   "attachments": {},
   "cell_type": "markdown",
   "metadata": {},
   "source": [
    "## **9. Number game using a `for` loop and `if` statement** "
   ]
  },
  {
   "cell_type": "code",
   "execution_count": 2,
   "metadata": {},
   "outputs": [
    {
     "name": "stdout",
     "output_type": "stream",
     "text": [
      "\n",
      "1 x 5\n",
      "That is correct\n",
      "2 x 5\n",
      "That is correct\n",
      "3 x 5\n",
      "That is correct\n",
      "4 x 5\n",
      "That is incorrect. The correct answer is  20\n",
      "5 x 5\n",
      "That is correct\n",
      "6 x 5\n",
      "That is correct\n",
      "7 x 5\n",
      "That is incorrect. The correct answer is  35\n",
      "8 x 5\n",
      "That is correct\n",
      "9 x 5\n",
      "That is incorrect. The correct answer is  45\n",
      "10 x 5\n",
      "That is correct\n",
      "Congrats, you got  7  answers correct\n"
     ]
    }
   ],
   "source": [
    "user_num = int(input(\"Pick a number: \"))\n",
    "print()\n",
    "\n",
    "counter = 0\n",
    "\n",
    "for num in range(1, 11):\n",
    "  print(num, \"x\", user_num)\n",
    "  answer = int(input(\"Your answer: \"))\n",
    "  new_num = num*user_num\n",
    "  if new_num == answer:\n",
    "    print(\"That is correct\")\n",
    "    counter+=1\n",
    "  else:\n",
    "    print(\"That is incorrect. The correct answer is \", new_num)\n",
    "print(\"Congrats, you got \", counter, \" answers correct\")\n"
   ]
  }
 ],
 "metadata": {
  "kernelspec": {
   "display_name": "base",
   "language": "python",
   "name": "python3"
  },
  "language_info": {
   "codemirror_mode": {
    "name": "ipython",
    "version": 3
   },
   "file_extension": ".py",
   "mimetype": "text/x-python",
   "name": "python",
   "nbconvert_exporter": "python",
   "pygments_lexer": "ipython3",
   "version": "3.9.12"
  },
  "orig_nbformat": 4
 },
 "nbformat": 4,
 "nbformat_minor": 2
}
