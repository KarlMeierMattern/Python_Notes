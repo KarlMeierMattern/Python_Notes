{
 "cells": [
  {
   "attachments": {},
   "cell_type": "markdown",
   "metadata": {},
   "source": [
    "### **15. Character builder using multiple subroutines**"
   ]
  },
  {
   "attachments": {},
   "cell_type": "markdown",
   "metadata": {},
   "source": [
    "### **V1**"
   ]
  },
  {
   "cell_type": "code",
   "execution_count": null,
   "metadata": {},
   "outputs": [],
   "source": [
    "import random, time\n",
    "\n",
    "def dice(sides):\n",
    "  number = random.randint(1,sides)\n",
    "  return number\n",
    "\n",
    "def health():\n",
    "  six_side = dice(6)\n",
    "  twelve_side = dice(12)\n",
    "  health_stat = ((six_side*twelve_side)/2 + 10)\n",
    "  return health_stat\n",
    "\n",
    "def strength():\n",
    "  six_side = dice(6)\n",
    "  twelve_side = dice(12)\n",
    "  strength_stat = ((six_side*twelve_side)/2 + 12)\n",
    "  return strength_stat\n",
    "\n",
    "def character():\n",
    "  print()\n",
    "  print(\"You are\", legend, \"the\", char)\n",
    "  print(\"HEALTH: \", health())\n",
    "  print(\"STRENGTH: \", strength())\n",
    "\n",
    "exit = \"no\"\n",
    "while exit == \"no\":\n",
    "  print(\"Character builder\")\n",
    "  time.sleep(1)\n",
    "  print(\"Name your legend\")\n",
    "  legend = input()\n",
    "  print(\"Name your chracter, either human, elf, wizard or orc\")\n",
    "  char = input()\n",
    "  character()\n",
    "  exit = input(\"Do you want to quit the game? \")\n",
    "  if exit == \"no\":\n",
    "    continue\n",
    "  else:\n",
    "    exit()"
   ]
  },
  {
   "attachments": {},
   "cell_type": "markdown",
   "metadata": {},
   "source": [
    "### **V2**"
   ]
  },
  {
   "cell_type": "code",
   "execution_count": null,
   "metadata": {},
   "outputs": [],
   "source": [
    "import random, time\n",
    "\n",
    "def rollDice(side):\n",
    "  result = random.randint(1,side)\n",
    "  return result\n",
    "\n",
    "def health():\n",
    "  healthStat = ((rollDice(6)*rollDice(12))/2)+10\n",
    "  return healthStat\n",
    "\n",
    "def strength():\n",
    "  strengthStat = ((rollDice(6)*rollDice(8))/2)+12\n",
    "  return strengthStat\n",
    "\n",
    "while True:\n",
    "  print(\"⚔️ CHARACTER BUILDER ⚔️\")\n",
    "  print()\n",
    "  name = input(\"Name your Legend:\\n\")\n",
    "  type = input(\"Character Type (Human, Elf, Wizard, Orc):\\n\")\n",
    "  print()\n",
    "  print(name)\n",
    "  print(\"HEALTH:\", health())\n",
    "  print(\"STRENGTH:\", strength())\n",
    "  print()\n",
    "  print(\"May your name go down in Legend…\")\n",
    "  print()\n",
    "  again = input(\"Again?:\\n\")\n",
    "  if again==\"No\" or again==\"no\":\n",
    "    break\n",
    "  time.sleep(1)"
   ]
  }
 ],
 "metadata": {
  "kernelspec": {
   "display_name": "base",
   "language": "python",
   "name": "python3"
  },
  "language_info": {
   "codemirror_mode": {
    "name": "ipython",
    "version": 3
   },
   "file_extension": ".py",
   "mimetype": "text/x-python",
   "name": "python",
   "nbconvert_exporter": "python",
   "pygments_lexer": "ipython3",
   "version": "3.9.12"
  },
  "orig_nbformat": 4
 },
 "nbformat": 4,
 "nbformat_minor": 2
}
