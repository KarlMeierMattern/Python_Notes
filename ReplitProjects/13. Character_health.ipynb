{
 "cells": [
  {
   "attachments": {},
   "cell_type": "markdown",
   "metadata": {},
   "source": [
    "## **13. Character health app using `def` function, `while` loop and `random` library** "
   ]
  },
  {
   "cell_type": "code",
   "execution_count": 2,
   "metadata": {},
   "outputs": [
    {
     "name": "stdout",
     "output_type": "stream",
     "text": [
      "⚔️Character stats generator⚔️\n",
      "Their health is 1 hp\n",
      "Their health is 15 hp\n"
     ]
    }
   ],
   "source": [
    "import random\n",
    "\n",
    "def rollDice(sides):\n",
    "  result = random.randint(1,sides)\n",
    "  return result\n",
    "\n",
    "def roll_6_and_8():\n",
    "  roll_6_sided_dice = rollDice(6)\n",
    "  roll_8_sided_dice = rollDice(8)\n",
    "  health = roll_6_sided_dice * roll_8_sided_dice\n",
    "  return health\n",
    "\n",
    "print(\"⚔️Character stats generator⚔️\")\n",
    "  \n",
    "haveACharacter = \"yes\"\n",
    "\n",
    "while haveACharacter == \"yes\":\n",
    "  character = input(\"Name your warrior: \")\n",
    "  health = str(roll_6_and_8())\n",
    "  print(\"Their health is\", health,\"hp\" ) \n",
    "  haveACharacter = input(\"Want to create another character?\")"
   ]
  }
 ],
 "metadata": {
  "kernelspec": {
   "display_name": "base",
   "language": "python",
   "name": "python3"
  },
  "language_info": {
   "codemirror_mode": {
    "name": "ipython",
    "version": 3
   },
   "file_extension": ".py",
   "mimetype": "text/x-python",
   "name": "python",
   "nbconvert_exporter": "python",
   "pygments_lexer": "ipython3",
   "version": "3.9.12"
  },
  "orig_nbformat": 4
 },
 "nbformat": 4,
 "nbformat_minor": 2
}
