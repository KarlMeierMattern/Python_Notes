{
 "cells": [
  {
   "attachments": {},
   "cell_type": "markdown",
   "metadata": {},
   "source": [
    "### **23. Writing, appending, and reading files**"
   ]
  },
  {
   "cell_type": "code",
   "execution_count": null,
   "metadata": {},
   "outputs": [],
   "source": [
    "import os, time, random\n",
    "\n",
    "def add():\n",
    "  os.system(\"clear\")\n",
    "  idea = input(\"Input your idea: \")\n",
    "  f = open(\"new.ideas\", \"a+\")\n",
    "  f.write(f\"{idea}\\n\")\n",
    "  f.close()\n",
    "  time.sleep(2)\n",
    "  os.system(\"clear\")\n",
    "  f = open(\"new.ideas\", \"r\")\n",
    "\n",
    "  # reads the full file\n",
    "  contents = f.read()\n",
    "  print(contents)\n",
    "  f.close()\n",
    "  time.sleep(2)\n",
    "  os.system(\"clear\")\n",
    "\n",
    "def show():\n",
    "  os.system(\"clear\")\n",
    "  f = open(\"new.ideas\", \"r\")\n",
    "  \n",
    "  # split the ideas by line\n",
    "  ideas = f.read().split(\"\\n\")\n",
    "  f.close()\n",
    "  ideas.remove(\"\")\n",
    "  idea = random.choice(ideas)\n",
    "  print(idea)\n",
    "  time.sleep(2)\n",
    "  os.system(\"clear\")\n",
    "\n",
    "while True:\n",
    "  choice = int(input(\"1. Add \\n2. Random\\n\"))\n",
    "  if choice == 1:\n",
    "    add()\n",
    "  else:\n",
    "    show()"
   ]
  }
 ],
 "metadata": {
  "language_info": {
   "name": "python"
  },
  "orig_nbformat": 4
 },
 "nbformat": 4,
 "nbformat_minor": 2
}
