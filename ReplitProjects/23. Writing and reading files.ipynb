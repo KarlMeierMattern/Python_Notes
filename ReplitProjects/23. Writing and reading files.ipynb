{
 "cells": [
  {
   "attachments": {},
   "cell_type": "markdown",
   "metadata": {},
   "source": [
    "### **23. Writing, appending, and reading files**"
   ]
  },
  {
   "cell_type": "code",
   "execution_count": null,
   "metadata": {},
   "outputs": [],
   "source": [
    "import os, time, random\n",
    "\n",
    "def add():\n",
    "  os.system(\"clear\")\n",
    "  idea = input(\"Input your idea: \")\n",
    "  f = open(\"new.ideas\", \"a+\")\n",
    "  f.write(f\"{idea}\\n\")\n",
    "  f.close()\n",
    "  time.sleep(2)\n",
    "  os.system(\"clear\")\n",
    "  f = open(\"new.ideas\", \"r\")\n",
    "\n",
    "  # reads the full file\n",
    "  contents = f.read()\n",
    "  print(contents)\n",
    "  f.close()\n",
    "  time.sleep(2)\n",
    "  os.system(\"clear\")\n",
    "\n",
    "def show():\n",
    "  os.system(\"clear\")\n",
    "  f = open(\"new.ideas\", \"r\")\n",
    "  \n",
    "  # split the ideas by line\n",
    "  ideas = f.read().split(\"\\n\")\n",
    "  f.close()\n",
    "  ideas.remove(\"\")\n",
    "  idea = random.choice(ideas)\n",
    "  print(idea)\n",
    "  time.sleep(2)\n",
    "  os.system(\"clear\")\n",
    "\n",
    "while True:\n",
    "  choice = int(input(\"1. Add \\n2. Random\\n\"))\n",
    "  if choice == 1:\n",
    "    add()\n",
    "  else:\n",
    "    show()"
   ]
  },
  {
   "attachments": {},
   "cell_type": "markdown",
   "metadata": {},
   "source": [
    "### **Preventing data loss**"
   ]
  },
  {
   "cell_type": "code",
   "execution_count": null,
   "metadata": {},
   "outputs": [],
   "source": [
    "myEvents = []\n",
    "\n",
    "# To prevent data loss, load any pre-existing data from the file into the myEvents list at the very start of the code.\n",
    "f=open(\"calendar.txt\",\"r\")\n",
    "myEvents = eval(f.read())\n",
    "f.close()\n",
    "\n",
    "def prettyPrint():\n",
    "  print()\n",
    "  for row in myEvents:\n",
    "    print(f\"{row[0] :^15} {row[1] :^15}\")\n",
    "  print()\n",
    "\n",
    "while True:\n",
    "  menu = input(\"1: Add, 2: Remove\\n\")\n",
    "\n",
    "  if menu == \"1\":\n",
    "    event = input(\"What event?: \").capitalize()\n",
    "    date = input(\"What date?: \")\n",
    "    row = [event,date]\n",
    "    myEvents.append(row)\n",
    "    prettyPrint()\n",
    "\n",
    "  else:\n",
    "    criteria = input(\"What event do you want to remove?: \").title()\n",
    "    for row in myEvents:\n",
    "      if criteria in row:\n",
    "        myEvents.remove(row)\n",
    "\n",
    "  \n",
    "  f = open(\"calendar.txt\", \"w\") \n",
    "  f.write(str(myEvents)) \n",
    "  f.close()"
   ]
  }
 ],
 "metadata": {
  "language_info": {
   "name": "python"
  },
  "orig_nbformat": 4
 },
 "nbformat": 4,
 "nbformat_minor": 2
}
