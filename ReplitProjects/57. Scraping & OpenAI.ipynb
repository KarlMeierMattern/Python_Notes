{
 "cells": [
  {
   "cell_type": "markdown",
   "metadata": {},
   "source": [
    "## **57. Scraping & OpenAI**"
   ]
  },
  {
   "cell_type": "code",
   "execution_count": null,
   "metadata": {},
   "outputs": [],
   "source": [
    "import os, requests, openai\n",
    "from bs4 import BeautifulSoup\n",
    "\n",
    "url = \"https://www.cnbc.com/2023/07/27/meta-stock-up-after-earnings-year-of-efficiency-paying-off.html\"\n",
    "response = requests.get(url)\n",
    "\n",
    "html = response.text\n",
    "soup = BeautifulSoup(html, 'html.parser')\n",
    "myLinks = soup.find_all(\"div\", {\"class\":\"ArticleBody-articleBody\"})\n",
    "\n",
    "openai.organisation = os.environ['organizationID'] # stored in Replit Secrets\n",
    "openai.api_key = os.environ['openai'] # stored in Replit Secrets\n",
    "openai.Model.list()\n",
    "\n",
    "for link in myLinks:\n",
    "    prompt = f\"Pull out three key findings from this article and place them in a numbered list: {link.text}\"\n",
    "    response = openai.Completion.create(model=\"text-davinci-002\", prompt=prompt, temperature=0, max_tokens=50)\n",
    "    print(response[\"choices\"][0][\"text\"].strip())"
   ]
  }
 ],
 "metadata": {
  "language_info": {
   "name": "python"
  },
  "orig_nbformat": 4
 },
 "nbformat": 4,
 "nbformat_minor": 2
}
