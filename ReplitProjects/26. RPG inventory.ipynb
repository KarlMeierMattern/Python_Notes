{
 "cells": [
  {
   "attachments": {},
   "cell_type": "markdown",
   "metadata": {},
   "source": [
    "### **26. RPG list builder**"
   ]
  },
  {
   "cell_type": "code",
   "execution_count": null,
   "metadata": {},
   "outputs": [],
   "source": [
    "import os, time\n",
    "rpg = []\n",
    "\n",
    "try:\n",
    "  f = open(\"rpg.new\", \"r\")\n",
    "  rpg = eval(f.read())\n",
    "  f.close()\n",
    "except:\n",
    "  pass\n",
    "\n",
    "def add():\n",
    "  time.sleep(1)\n",
    "  os.system(\"clear\")\n",
    "  name = input(\"Input the item to add: \").capitalize()\n",
    "  rpg.append(name)\n",
    "\n",
    "def remove():\n",
    "  time.sleep(1)\n",
    "  os.system(\"clear\")\n",
    "  item = input(\"What item do you want to remove?: \").capitalize()\n",
    "  if item in rpg:\n",
    "    rpg.remove(item)\n",
    "\n",
    "def view():\n",
    "  counts = {}\n",
    "  for item in rpg:\n",
    "    if item in counts:\n",
    "      counts[item] +=1\n",
    "    else:\n",
    "      counts[item] = 1\n",
    "  for num, count in counts.items():\n",
    "    print(f\"You have {count} items of {num}\")\n",
    "  time.sleep(2)\n",
    "\n",
    "while True:\n",
    "  time.sleep(1)\n",
    "  os.system(\"clear\")\n",
    "  print(\"RPG inventory\")\n",
    "  menu = int(input(\"1. Add\\n2. Remove:\\n3. View\\n\"))\n",
    "\n",
    "  if menu == 1:\n",
    "    add()\n",
    "  elif menu ==2:\n",
    "    remove()\n",
    "  else:\n",
    "    view()\n",
    "  f = open(\"rpg.new\", \"w\")\n",
    "  f.write(str(rpg))\n",
    "  f.close()"
   ]
  }
 ],
 "metadata": {
  "language_info": {
   "name": "python"
  },
  "orig_nbformat": 4
 },
 "nbformat": 4,
 "nbformat_minor": 2
}
