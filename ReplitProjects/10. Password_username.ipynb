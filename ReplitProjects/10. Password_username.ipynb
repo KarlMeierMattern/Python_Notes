{
 "cells": [
  {
   "attachments": {},
   "cell_type": "markdown",
   "metadata": {},
   "source": [
    "## **10. Username and password application using `def` function and `while` statement** "
   ]
  },
  {
   "attachments": {},
   "cell_type": "markdown",
   "metadata": {},
   "source": [
    "### **Rock, paper, scissors (first to 3 games wins)**"
   ]
  },
  {
   "cell_type": "code",
   "execution_count": 1,
   "metadata": {},
   "outputs": [
    {
     "name": "stdout",
     "output_type": "stream",
     "text": [
      "That is the incorrect login\n",
      "That is the incorrect login\n",
      "You have been locked out of your account for 5 minutes\n",
      "You have been locked out of your account for 5 minutes\n",
      "You have been locked out of your account for 5 minutes\n"
     ]
    }
   ],
   "source": [
    "# the time function is imported in order to apply the `time.sleep` function which will cause the program to sleep for 10 seconds in the event that the user inputs the wrong username and password three times.\n",
    "\n",
    "def login_details():\n",
    "  import time\n",
    "  counter = 1\n",
    "  while True:\n",
    "    username = input(\"What is your username: \")\n",
    "    password = input(\"What is your password: \")\n",
    "    if username == \"Karl10\" and password == \"12345\":\n",
    "      print(\"Welcome, Karl\")\n",
    "      break\n",
    "    else:\n",
    "      counter+=1\n",
    "      if counter > 3:\n",
    "        print(\"You have been locked out of your account for 10 seconds\")\n",
    "        time.sleep(10)\n",
    "        continue\n",
    "      else:\n",
    "        print(\"That is the incorrect login\")\n",
    "        continue\n",
    "\n",
    "login_details()"
   ]
  }
 ],
 "metadata": {
  "kernelspec": {
   "display_name": "Python 3",
   "language": "python",
   "name": "python3"
  },
  "language_info": {
   "codemirror_mode": {
    "name": "ipython",
    "version": 3
   },
   "file_extension": ".py",
   "mimetype": "text/x-python",
   "name": "python",
   "nbconvert_exporter": "python",
   "pygments_lexer": "ipython3",
   "version": "3.10.10"
  },
  "orig_nbformat": 4
 },
 "nbformat": 4,
 "nbformat_minor": 2
}
