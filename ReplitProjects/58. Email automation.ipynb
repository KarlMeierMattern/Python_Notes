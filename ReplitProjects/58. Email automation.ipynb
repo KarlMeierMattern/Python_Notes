{
 "cells": [
  {
   "cell_type": "markdown",
   "metadata": {},
   "source": [
    "## **58. Email automation**"
   ]
  },
  {
   "cell_type": "markdown",
   "metadata": {},
   "source": [
    "Today's lesson will work best if you have one of Replit's paid for features (hacker plan or cycles).\n",
    "\n",
    "Free plan Repls 'fall asleep' after a while. Automation kinda relies on the Repl being always on.\n",
    "\n",
    "If you have hacker plan or you've bought some cycles, then you can enable always on in the drop down menu that appears when you click your Repl name (top left).  \n",
    "\n",
    "This is important because when our repl is always running, it can keep track of time and schedule events."
   ]
  },
  {
   "cell_type": "markdown",
   "metadata": {},
   "source": [
    "Set all the mail parameters. Create the mail & send it. Call the subroutine to test it.  \n",
    "\n",
    "This code is to send a single mail."
   ]
  },
  {
   "cell_type": "code",
   "execution_count": null,
   "metadata": {},
   "outputs": [],
   "source": [
    "import schedule, time, os, smtplib # Import the smtp library\n",
    "from email.mime.multipart import MIMEMultipart # Import the mime library to create multipart messages\n",
    "from email.mime.text import MIMEText # Import the mime library to create text messages\n",
    "\n",
    "password = os.environ['mailPassword']\n",
    "username = os.environ['mailUsername']\n",
    "\n",
    "def sendMail():\n",
    "  email = \"Don't forget to take a break!\" # Contents of the message\n",
    "  server = \"smtp.gmail.com\" # Address of the mail server, change it to yours if you need to\n",
    "  port = 587 # Port of the mail server, change it to yours if you need to\n",
    "  s = smtplib.SMTP(host = server, port = port) # Creates the server connection using the host and port details\n",
    "  s.starttls() # Sets the encryption mode\n",
    "  s.login(username, password) # Logs into the email server for us\n",
    "\n",
    "  msg = MIMEMultipart() # Creates the message\n",
    "  msg['To'] = \"karl.meier.mattern@pwc.com\" # Sets the receiver's email address\n",
    "  msg['From'] = username # Sets the sender's email address\n",
    "  msg['Subject'] = \"Take a BREAK\" # Sets the subject of the message\n",
    "  msg.attach(MIMEText(email, 'html')) # Attaches the email content to the message as html\n",
    "\n",
    "  s.send_message(msg) # Sends the message\n",
    "  del msg # Deletes the message from memory\n",
    "\n",
    "sendMail() # Call the subroutine to test it.\n",
    "\n",
    "# Create an infinite loop that repeats schedule.run_pending() - this means run any tasks in the schedule.\n",
    "while True:\n",
    "  schedule.run_pending()"
   ]
  },
  {
   "cell_type": "markdown",
   "metadata": {},
   "source": [
    "Schedule an email to be sent every hour"
   ]
  },
  {
   "cell_type": "code",
   "execution_count": null,
   "metadata": {},
   "outputs": [],
   "source": [
    "import schedule, time, os, smtplib \n",
    "from email.mime.multipart import MIMEMultipart \n",
    "from email.mime.text import MIMEText \n",
    "\n",
    "password = os.environ['mailPassword']\n",
    "username = os.environ['mailUsername']\n",
    "\n",
    "def sendMail():\n",
    "  email = \"Don't forget to take a break!\" \n",
    "  server = \"smtp.gmail.com\" \n",
    "  port = 587 \n",
    "  s = smtplib.SMTP(host = server, port = port) \n",
    "  s.starttls() \n",
    "  s.login(username, password) \n",
    "\n",
    "  msg = MIMEMultipart() \n",
    "  msg['To'] = \"karl.meier.mattern@pwc.com\" \n",
    "  msg['From'] = username \n",
    "  msg['Subject'] = \"Take a BREAK\" \n",
    "  msg.attach(MIMEText(email, 'html'))\n",
    "\n",
    "  s.send_message(msg) \n",
    "  del msg \n",
    "\n",
    "def printMe():\n",
    "  print(\"⏰ Sending Reminder\")\n",
    "  sendMail() # Moved the subroutine into printMe which is already scheduled\n",
    "\n",
    "schedule.every(5).seconds.do(printMe) # Changed the interval to 5 seconds\n",
    "# Time intervals must be plural - hours, not hour. Even if there's only one of them.\n",
    "\n",
    "# time.sleep() makes the loop run once per second which saves CPU resources.\n",
    "while True:\n",
    "  schedule.run_pending()\n",
    "  time.sleep(1)"
   ]
  }
 ],
 "metadata": {
  "language_info": {
   "name": "python"
  },
  "orig_nbformat": 4
 },
 "nbformat": 4,
 "nbformat_minor": 2
}
