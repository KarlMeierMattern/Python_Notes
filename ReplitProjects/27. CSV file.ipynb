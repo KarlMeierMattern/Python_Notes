{
 "cells": [
  {
   "attachments": {},
   "cell_type": "markdown",
   "metadata": {},
   "source": [
    "### **27. Reading in a CSV file**"
   ]
  },
  {
   "attachments": {},
   "cell_type": "markdown",
   "metadata": {},
   "source": [
    "Filtering for the cost and quantity column in the CSV file, multiplying these together, adding it to a running total, and printing the total cost"
   ]
  },
  {
   "cell_type": "code",
   "execution_count": null,
   "metadata": {},
   "outputs": [],
   "source": [
    "import csv\n",
    "\n",
    "with open(\"Day54Totals.csv\") as file:\n",
    "  reader = csv.DictReader(file)\n",
    "\n",
    "  total = 0\n",
    "  \n",
    "  for row in reader:\n",
    "    total_cost = float(row[\"Cost\"]) * float(row[\"Quantity\"])\n",
    "    total += total_cost\n",
    "\n",
    "  print(f\"The total cost is ${round(total,2)}\")"
   ]
  }
 ],
 "metadata": {
  "language_info": {
   "name": "python"
  },
  "orig_nbformat": 4
 },
 "nbformat": 4,
 "nbformat_minor": 2
}
