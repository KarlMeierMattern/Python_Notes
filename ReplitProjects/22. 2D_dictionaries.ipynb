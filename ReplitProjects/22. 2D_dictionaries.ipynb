{
 "cells": [
  {
   "attachments": {},
   "cell_type": "markdown",
   "metadata": {},
   "source": [
    "### **22. 2D Dictionaries**"
   ]
  },
  {
   "attachments": {},
   "cell_type": "markdown",
   "metadata": {},
   "source": [
    "### **Moke Beast game**"
   ]
  },
  {
   "attachments": {},
   "cell_type": "markdown",
   "metadata": {},
   "source": [
    "### **My solution**"
   ]
  },
  {
   "cell_type": "code",
   "execution_count": 1,
   "metadata": {},
   "outputs": [
    {
     "name": "stdout",
     "output_type": "stream",
     "text": [
      "MokéBeast\n",
      "\n",
      "karl: type human | move kick | hp 100 | mp 90 | \n"
     ]
    }
   ],
   "source": [
    "def prettyPrint():\n",
    "  for key, value in mokedex.items():\n",
    "    print(key, end = \": \")\n",
    "    for subkey, subvalue in value.items():\n",
    "      print(subkey, subvalue, end = \" | \")\n",
    "\n",
    "mokedex = {}\n",
    "\n",
    "print(\"MokéBeast\")\n",
    "print()\n",
    "\n",
    "while True:\n",
    "  name = input(\"Name?: \")\n",
    "  type = input(\"Type?: \")\n",
    "  move = input(\"Special move?: \")\n",
    "  hp = input(\"HP?: \")\n",
    "  mp = input(\"MP?: \")\n",
    "  mokedex[name] = {\"type\": type, \"move\": move, \"hp\": hp, \"mp\": mp}\n",
    "  prettyPrint()\n",
    "  print()\n",
    "  another = input(\"Again?: \").strip().lower()[0]\n",
    "  if another == \"n\":\n",
    "    break\n",
    "  else:\n",
    "    continue\n",
    "\n"
   ]
  },
  {
   "attachments": {},
   "cell_type": "markdown",
   "metadata": {},
   "source": [
    "### **Solution**"
   ]
  },
  {
   "cell_type": "code",
   "execution_count": 1,
   "metadata": {},
   "outputs": [
    {
     "name": "stdout",
     "output_type": "stream",
     "text": [
      "\n",
      "Karl: location dbn | weapon knife | \n",
      "\n",
      "Karl: location dbn | weapon knife | \n",
      "jack: location  | weapon  | \n"
     ]
    }
   ],
   "source": [
    "clue = {}\n",
    "def prettyPrint():\n",
    "  print()\n",
    "  \n",
    "  for key, value in clue.items():\n",
    "    # moves along every 'key:subDictionary' pair and outputs the key (the name of the character).\n",
    "    print(key, end=\": \")\n",
    "    for subKey, subValue in value.items():\n",
    "      # (nested) `for` loop moves along every subkey and subvalue in each subDictionary.\n",
    "      print(subKey, subValue, end=\" | \")\n",
    "    print()\n",
    "    \n",
    "while True:\n",
    "  name = input(\"Name: \")\n",
    "  location = input(\"Location: \")\n",
    "  weapon = input(\"Weapon: \")\n",
    "\n",
    "  clue[name] = {\"location\": location, \"weapon\":weapon} \n",
    "\n",
    "  prettyPrint()"
   ]
  },
  {
   "cell_type": "code",
   "execution_count": 35,
   "metadata": {},
   "outputs": [
    {
     "name": "stdout",
     "output_type": "stream",
     "text": [
      "David :\n",
      "    Intelligence 178\n",
      "    Speed 4\n",
      "    Guile 80\n",
      "    Baldness Level 99\n",
      "Mr Spock :\n",
      "    Intelligence 200\n",
      "    Speed 50\n",
      "    Guile 50\n",
      "    Baldness Level 0\n",
      "Moica from Friends :\n",
      "    Intelligence 150\n",
      "    Speed 50\n",
      "    Guile 50\n",
      "    Baldness Level 0\n",
      "Professor X :\n",
      "    Intelligence 250\n",
      "    Speed 1\n",
      "    Guile 200\n",
      "    Baldness Level 101\n"
     ]
    }
   ],
   "source": [
    "trumps = {}\n",
    "trumps[\"David\"] = {\"Intelligence\": 178, \"Speed\": 4, \"Guile\": 80, \"Baldness Level\": 99}\n",
    "trumps[\"Mr Spock\"] = {\"Intelligence\": 200, \"Speed\": 50, \"Guile\": 50, \"Baldness Level\": 0}\n",
    "trumps[\"Moica from Friends\"] = {\"Intelligence\": 150, \"Speed\": 50, \"Guile\": 50, \"Baldness Level\": 0}\n",
    "trumps[\"Professor X\"] = {\"Intelligence\": 250, \"Speed\": 1, \"Guile\": 200, \"Baldness Level\": 101}\n",
    "\n",
    "for key, value in trumps.items():\n",
    "    print(key, \":\")\n",
    "    for subkey, subvalue in value.items():\n",
    "        print(\"   \", subkey, subvalue)\n",
    "\n"
   ]
  }
 ],
 "metadata": {
  "kernelspec": {
   "display_name": "base",
   "language": "python",
   "name": "python3"
  },
  "language_info": {
   "codemirror_mode": {
    "name": "ipython",
    "version": 3
   },
   "file_extension": ".py",
   "mimetype": "text/x-python",
   "name": "python",
   "nbconvert_exporter": "python",
   "pygments_lexer": "ipython3",
   "version": "3.9.12"
  },
  "orig_nbformat": 4,
  "vscode": {
   "interpreter": {
    "hash": "53c1b4b564eb55bc17be1301e8b58b40420bf6fa9bbd1b108c9f4fb3e216399e"
   }
  }
 },
 "nbformat": 4,
 "nbformat_minor": 2
}
