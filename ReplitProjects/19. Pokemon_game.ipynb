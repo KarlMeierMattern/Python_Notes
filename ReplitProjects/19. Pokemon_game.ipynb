{
 "cells": [
  {
   "attachments": {},
   "cell_type": "markdown",
   "metadata": {},
   "source": [
    "### **19. Pokemon game using dictionaries**"
   ]
  },
  {
   "cell_type": "code",
   "execution_count": null,
   "metadata": {},
   "outputs": [],
   "source": [
    "mokedex = {\"Beast Name\": None, \"Type\": None, \"Special Move\": None, \"HP\": None, \"MP\": None}\n",
    "\n",
    "print(\"MokéBeast\")\n",
    "print()\n",
    "\n",
    "for name, value in mokedex.items():\n",
    "  mokedex[name] = input(f\"{name}:\\t\").strip().title()\n",
    "\n",
    "for name, value in mokedex.items():\n",
    "  if mokedex[\"Type\"]==\"Earth\":\n",
    "    print(\"\\033[32m\", end=\"\")\n",
    "  elif mokedex[\"Type\"]==\"Air\":\n",
    "    print(\"\\033[37m\", end=\"\")\n",
    "  elif mokedex[\"Type\"]==\"Fire\":\n",
    "    print(\"\\033[31m\", end=\"\")\n",
    "  elif mokedex[\"Type\"]==\"Water\":\n",
    "    print(\"\\033[34m\", end=\"\")\n",
    "  else:\n",
    "    print(\"\\033[33m\", end=\"\")\n",
    "  print(f\"{name:<15}: {value}\")"
   ]
  },
  {
   "attachments": {},
   "cell_type": "markdown",
   "metadata": {},
   "source": [
    "Line 6 of the code above could also read:  \n",
    "\n",
    "    for name in mokedex()   \n",
    "\n",
    "It could also read:  \n",
    "\n",
    "    for name in mokedex.keys()  \n",
    "\n",
    "However, it can't be:  \n",
    "\n",
    "    for name, value in mokedex()  \n",
    "> if you want to specify two parameters you must use modex.items()"
   ]
  }
 ],
 "metadata": {
  "language_info": {
   "name": "python"
  },
  "orig_nbformat": 4
 },
 "nbformat": 4,
 "nbformat_minor": 2
}
