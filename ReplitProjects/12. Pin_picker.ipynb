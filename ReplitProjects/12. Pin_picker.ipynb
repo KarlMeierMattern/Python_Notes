{
 "cells": [
  {
   "attachments": {},
   "cell_type": "markdown",
   "metadata": {},
   "source": [
    "## **12. Pin picker app using `def` function, `for` statement and `random` library** "
   ]
  },
  {
   "cell_type": "code",
   "execution_count": 2,
   "metadata": {},
   "outputs": [
    {
     "name": "stdout",
     "output_type": "stream",
     "text": [
      "5186\n"
     ]
    }
   ],
   "source": [
    "# subroutine has parameter called `p`\n",
    "#`pow` shows how many numbers we want the pin to have\n",
    "def pin_picker(p):\n",
    "  import random\n",
    "  new_pin = \"\"\n",
    "  for i in range(p): #for loop shows defined amount of random numbers\n",
    "    new_pin += str(random.randint(1,9)) #we want a string of random numbers between 1-9\n",
    "  return new_pin\n",
    "\n",
    "print(pin_picker(4)) #4 means we want 4 random numbers"
   ]
  }
 ],
 "metadata": {
  "kernelspec": {
   "display_name": "Python 3",
   "language": "python",
   "name": "python3"
  },
  "language_info": {
   "codemirror_mode": {
    "name": "ipython",
    "version": 3
   },
   "file_extension": ".py",
   "mimetype": "text/x-python",
   "name": "python",
   "nbconvert_exporter": "python",
   "pygments_lexer": "ipython3",
   "version": "3.10.10"
  },
  "orig_nbformat": 4
 },
 "nbformat": 4,
 "nbformat_minor": 2
}
