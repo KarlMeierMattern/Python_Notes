{
 "cells": [
  {
   "cell_type": "markdown",
   "metadata": {},
   "source": [
    "## **55. News API & OpenAI API**"
   ]
  },
  {
   "cell_type": "markdown",
   "metadata": {},
   "source": [
    "The biggest issue that could cause errors with API is knowing the differences in APIs. NewsAPI uses a standard format and openAI has its own library that will convert to json format. With NewsAPI, you have to format the code yourself. If you can find a library that does that for you, you are golden!"
   ]
  },
  {
   "cell_type": "markdown",
   "metadata": {},
   "source": [
    "### **News API**"
   ]
  },
  {
   "cell_type": "code",
   "execution_count": null,
   "metadata": {},
   "outputs": [],
   "source": [
    "import requests, json, os\n",
    "\n",
    "newsKey = os.environ['newsapi'] # stored in Replit Secrets\n",
    "country = \"us\"\n",
    "\n",
    "url = f\"https://newsapi.org/v2/top-headlines?country={country}&apiKey={newsKey}\"\n",
    "\n",
    "result = requests.get(url)\n",
    "data = result.json()\n",
    "print(json.dumps(data, indent=2))\n",
    "\n",
    "#for article in data['articles']:\n",
    " # print(article['title'])\n",
    " # print(article['url'])\n",
    " # print(article['content'])"
   ]
  },
  {
   "cell_type": "markdown",
   "metadata": {},
   "source": [
    "### **Combining News API & OpenAI API**"
   ]
  },
  {
   "cell_type": "code",
   "execution_count": null,
   "metadata": {},
   "outputs": [],
   "source": [
    "import os, requests, json, openai\n",
    "\n",
    "news = os.environ['newsapi'] # stored in Replit Secrets\n",
    "openai.organisation = os.environ['organizationID'] # stored in Replit Secrets\n",
    "openai.api_key = os.environ['openai'] # stored in Replit Secrets\n",
    "openai.Model.list()\n",
    "\n",
    "country = \"gb\"\n",
    "url = f\"https://newsapi.org/v2/top-headlines?country={country}&apiKey={news}\"\n",
    "\n",
    "result = requests.get(url)\n",
    "data = result.json()\n",
    "\n",
    "counter = 0\n",
    "for article in data[\"articles\"]:\n",
    "  counter +=1\n",
    "  if counter > 5:\n",
    "    break\n",
    "  prompt = (f\"\"\"Summarise {article[\"url\"]} in one sentence.\"\"\")\n",
    "  response = openai.Completion.create(model=\"text-davinci-002\", prompt=prompt, temperature=0, max_tokens=50)\n",
    "  print(response[\"choices\"][0][\"text\"].strip())"
   ]
  }
 ],
 "metadata": {
  "language_info": {
   "name": "python"
  },
  "orig_nbformat": 4
 },
 "nbformat": 4,
 "nbformat_minor": 2
}
