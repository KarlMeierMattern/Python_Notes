{
 "cells": [
  {
   "attachments": {},
   "cell_type": "markdown",
   "metadata": {},
   "source": [
    "### **31. Palindrome**"
   ]
  },
  {
   "attachments": {},
   "cell_type": "markdown",
   "metadata": {},
   "source": [
    "### **My code**"
   ]
  },
  {
   "cell_type": "code",
   "execution_count": null,
   "metadata": {},
   "outputs": [],
   "source": [
    "def pal(word):\n",
    "  num = len(word)\n",
    "  new_word = []\n",
    "  for i in range(1, num+1):\n",
    "    new_word.append(word[-i])\n",
    "  result = ''.join(new_word)\n",
    "  result = result.replace(\" \", \"\")\n",
    "  word = word.replace(\" \", \"\")\n",
    "  if result == word:\n",
    "    print(f\"{word} is a palindrome\")\n",
    "  else:\n",
    "    print(f\"Sorry, {word} is not a palindrome\")\n",
    "\n",
    "while True:\n",
    "  choice = int(input(\"1.Play\\n2.Exit\\n\"))\n",
    "  if choice == 1:\n",
    "    word = input(\"Type your word:\\n\")\n",
    "    pal(word)\n",
    "  else:\n",
    "    exit()"
   ]
  },
  {
   "attachments": {},
   "cell_type": "markdown",
   "metadata": {},
   "source": [
    "### **Solution**"
   ]
  },
  {
   "attachments": {},
   "cell_type": "markdown",
   "metadata": {},
   "source": [
    "The base case of the recursive function is when len(word) <= 1. In this case, the function returns True because a word with either 0 or 1 character is considered a palindrome.  \n",
    "\n",
    "For words with more than 1 character, the function performs the following checks:  \n",
    "- It compares the first character of the word (word[0]) with the last character of the word (word[-1]).  \n",
    "- If they are different, the function immediately returns False because the word cannot be a palindrome.  \n",
    "- If they are the same, the function proceeds to the next step.  \n",
    "- The function then makes a recursive call by passing the sliced word (word[1:-1]) as an **argument**.  \n",
    "- This recursive call checks whether the remaining portion of the word, excluding the first and last characters, is a palindrome.  \n",
    "- The recursion continues until it reaches the base case or until a mismatch is found.  \n",
    "- As the recursion unfolds, each recursive call checks whether the first and last characters of the remaining portion of the word match.  \n",
    "- If a mismatch is found at any point, False is propagated back through the recursive calls, indicating that the word is not a palindrome.  \n",
    "- If the recursion reaches the base case (when the length of the word is less than or equal to 1), True is propagated back, indicating that the word is a palindrome.  "
   ]
  },
  {
   "attachments": {},
   "cell_type": "markdown",
   "metadata": {},
   "source": [
    "**Explanation**  \n",
    "\n",
    "Assume the word is madam:  \n",
    "- The function checks if the first and last character are the same, in this case they are, both are 'm':  \n",
    "- Then the function passes `word[1:-1]` to the `palindrome` function, which in this case is 'ada'.  \n",
    "- Again, the function checks if the first and last character are the same, in this case they are, both are 'a':  \n",
    "- Then the function passes `word[1:-1]` to the `palindrome` function, which in this case is 'd'.  \n",
    "- As the length of word is now less than or equal to one letter the first if statement is satisfied.  \n",
    "- The word is thus a palindrome.  "
   ]
  },
  {
   "cell_type": "code",
   "execution_count": 12,
   "metadata": {},
   "outputs": [
    {
     "name": "stdout",
     "output_type": "stream",
     "text": [
      "True\n"
     ]
    }
   ],
   "source": [
    "def palindrome(word):\n",
    "  if len(word)<=1:\n",
    "    return True\n",
    "  if word[0] != word[-1]:\n",
    "    return False\n",
    "  else:\n",
    "    return palindrome(word[1:-1])\n",
    "\n",
    "print(palindrome(\"racecar\"))"
   ]
  }
 ],
 "metadata": {
  "kernelspec": {
   "display_name": "Python 3",
   "language": "python",
   "name": "python3"
  },
  "language_info": {
   "codemirror_mode": {
    "name": "ipython",
    "version": 3
   },
   "file_extension": ".py",
   "mimetype": "text/x-python",
   "name": "python",
   "nbconvert_exporter": "python",
   "pygments_lexer": "ipython3",
   "version": "3.10.11"
  },
  "orig_nbformat": 4
 },
 "nbformat": 4,
 "nbformat_minor": 2
}
