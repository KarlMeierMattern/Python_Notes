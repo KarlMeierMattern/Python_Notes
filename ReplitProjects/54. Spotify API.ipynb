{
 "cells": [
  {
   "cell_type": "markdown",
   "metadata": {},
   "source": [
    "## **54. Spotify API**"
   ]
  },
  {
   "cell_type": "markdown",
   "metadata": {},
   "source": [
    "Write a program that tells an API that we've got an account before accessing its info"
   ]
  },
  {
   "cell_type": "code",
   "execution_count": null,
   "metadata": {},
   "outputs": [],
   "source": [
    "import requests, json, os\n",
    "from requests.auth import HTTPBasicAuth # authenticates our Spotify credentials against their API\n",
    "\n",
    "clientID = os.environ[\"CLIENT_ID\"] # stored in Replit Secrets\n",
    "clientSecret = os.environ[\"CLIENT_SECRET\"] # stored in Replit Secrets\n",
    "\n",
    "# Authenticating gives you a token (a series of seemingly random numbers & letters) that is the 'I'm allowed in here' pass for your program.\n",
    "\n",
    "url = \"https://accounts.spotify.com/api/token\"\n",
    "data = {\"grant_type\":\"client_credentials\"} # creates a dictionary that communicates with the API in the correct way. It basically says to Spotify 'Send me back the credentials based in my client ID and secret. Here's a dictionary format to put them in'.\n",
    "auth = HTTPBasicAuth(clientID, clientSecret) # uses the new HTTPBasicAuth function to send your client ID and secret to Spotify as pretty much the username and password to log you in.\n",
    "response = requests.post(url, data=data, auth=auth) # stores the API key that will be returned by the requests function that sends Spotify the login info needed.\n",
    "print(response.ok) # output the info we get back for testing purposes.\n",
    "print(response.json())\n",
    "print(response.status_code)"
   ]
  },
  {
   "cell_type": "markdown",
   "metadata": {},
   "source": [
    "Once I've tested the prints and I know that it's all working, I can remove them and extract the access token."
   ]
  },
  {
   "cell_type": "code",
   "execution_count": null,
   "metadata": {},
   "outputs": [],
   "source": [
    "import requests, json, os\n",
    "from requests.auth import HTTPBasicAuth\n",
    "\n",
    "clientID = os.environ['CLIENT_ID']\n",
    "clientSecret = os.environ['CLIENT_SECRET']\n",
    "\n",
    "url = \"https://accounts.spotify.com/api/token\"\n",
    "data = {\"grant_type\":\"client_credentials\"}\n",
    "auth = HTTPBasicAuth(clientID, clientSecret)\n",
    "\n",
    "response = requests.post(url, data=data, auth=auth)\n",
    "accessToken = response.json()[\"access_token\"]"
   ]
  },
  {
   "cell_type": "code",
   "execution_count": null,
   "metadata": {},
   "outputs": [],
   "source": []
  }
 ],
 "metadata": {
  "language_info": {
   "name": "python"
  },
  "orig_nbformat": 4
 },
 "nbformat": 4,
 "nbformat_minor": 2
}
