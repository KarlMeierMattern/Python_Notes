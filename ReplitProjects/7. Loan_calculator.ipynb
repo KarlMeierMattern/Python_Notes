{
 "cells": [
  {
   "attachments": {},
   "cell_type": "markdown",
   "metadata": {},
   "source": [
    "## **7. Using `for` loops** "
   ]
  },
  {
   "attachments": {},
   "cell_type": "markdown",
   "metadata": {},
   "source": [
    "### **Loan calculator**"
   ]
  },
  {
   "attachments": {},
   "cell_type": "markdown",
   "metadata": {},
   "source": [
    "### **Version 1**"
   ]
  },
  {
   "cell_type": "code",
   "execution_count": 1,
   "metadata": {},
   "outputs": [
    {
     "name": "stdout",
     "output_type": "stream",
     "text": [
      "1050.0\n",
      "1102.5\n",
      "1157.625\n",
      "1215.50625\n",
      "1276.2815624999998\n",
      "1340.0956406249998\n",
      "1407.1004226562497\n",
      "1477.4554437890622\n",
      "1551.3282159785153\n",
      "1628.894626777441\n"
     ]
    }
   ],
   "source": [
    "loan = 1000\n",
    "interest = 0.05\n",
    "\n",
    "for counter in range(10):\n",
    "  loan += (loan*interest)\n",
    "  print(loan)"
   ]
  },
  {
   "attachments": {},
   "cell_type": "markdown",
   "metadata": {},
   "source": [
    "### **Version 2**"
   ]
  },
  {
   "cell_type": "code",
   "execution_count": 2,
   "metadata": {},
   "outputs": [
    {
     "name": "stdout",
     "output_type": "stream",
     "text": [
      "Year 1 is 1050.0\n",
      "Year 2 is 1102.5\n",
      "Year 3 is 1157.62\n",
      "Year 4 is 1215.51\n",
      "Year 5 is 1276.28\n",
      "Year 6 is 1340.1\n",
      "Year 7 is 1407.1\n",
      "Year 8 is 1477.46\n",
      "Year 9 is 1551.33\n",
      "Year 10 is 1628.89\n"
     ]
    }
   ],
   "source": [
    "loan = 1000\n",
    "apr = 0.05\n",
    "\n",
    "# Hint: If you need to count on one more number, just write i+ in the print statement to tell the computer to add the next number.\n",
    "for i in range(10):\n",
    "  loan+=(loan*apr)\n",
    "  print(\"Year\", i+1, \"is\", round(loan,2))"
   ]
  }
 ],
 "metadata": {
  "kernelspec": {
   "display_name": "Python 3",
   "language": "python",
   "name": "python3"
  },
  "language_info": {
   "codemirror_mode": {
    "name": "ipython",
    "version": 3
   },
   "file_extension": ".py",
   "mimetype": "text/x-python",
   "name": "python",
   "nbconvert_exporter": "python",
   "pygments_lexer": "ipython3",
   "version": "3.10.10"
  },
  "orig_nbformat": 4,
  "vscode": {
   "interpreter": {
    "hash": "f94b154e4e0102b65eb1b3335bb26f71a63b6088a081adcb5353195e79ebe68d"
   }
  }
 },
 "nbformat": 4,
 "nbformat_minor": 2
}
