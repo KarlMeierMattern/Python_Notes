{
 "cells": [
  {
   "attachments": {},
   "cell_type": "markdown",
   "metadata": {},
   "source": [
    "### **33. Replit database**"
   ]
  },
  {
   "attachments": {},
   "cell_type": "markdown",
   "metadata": {},
   "source": [
    "### **Common syntax**"
   ]
  },
  {
   "cell_type": "code",
   "execution_count": null,
   "metadata": {},
   "outputs": [],
   "source": [
    "from replit import db\n",
    "keys = db.keys()\n",
    "for key in keys:\n",
    "  print(f\"\"\"{key}: {db[key]}\"\"\")"
   ]
  },
  {
   "attachments": {},
   "cell_type": "markdown",
   "metadata": {},
   "source": [
    "### **My attempt**"
   ]
  },
  {
   "cell_type": "code",
   "execution_count": 17,
   "metadata": {},
   "outputs": [
    {
     "name": "stdout",
     "output_type": "stream",
     "text": [
      "[5, 4, 3, 2, 1]\n"
     ]
    }
   ],
   "source": [
    "from replit import db\n",
    "from datetime import datetime\n",
    "import os, time\n",
    "\n",
    "print(\"Welcome to Twitter\")\n",
    "\n",
    "def add():\n",
    "  time.sleep(2)\n",
    "  os.system(\"clear\")\n",
    "  tweet = input(\"Type your tweet:\\n\")\n",
    "  db[datetime.now()] = tweet\n",
    "  \n",
    "def view():\n",
    "  keys = db.keys()\n",
    "  keys = list(keys)\n",
    "  keys = keys[::-1]\n",
    "  #matches = db.prefix(\"mes\")\n",
    "  #matches = matches[::-1]\n",
    "  for i in keys:\n",
    "    print(f\"{i}: {db[i]}\")\n",
    "  time.sleep(5)\n",
    "  os.system(\"clear\")\n",
    "\n",
    "while True:\n",
    "  time.sleep(2)\n",
    "  os.system(\"clear\")\n",
    "  menu = int(input(\"1. Add tweet\\n2. View tweet\\n\"))\n",
    "  if menu == 1:\n",
    "    add()\n",
    "  else:\n",
    "    view()\n"
   ]
  },
  {
   "attachments": {},
   "cell_type": "markdown",
   "metadata": {},
   "source": [
    "### **Solution**"
   ]
  },
  {
   "cell_type": "code",
   "execution_count": null,
   "metadata": {},
   "outputs": [],
   "source": [
    "\n",
    "from replit import db\n",
    "import datetime, os, time\n",
    "\n",
    "def addTweet():\n",
    "  tweet = input(\"🐥 > \")\n",
    "  timestamp = datetime.datetime.now()\n",
    "  key = f\"mes{timestamp}\"\n",
    "  db[key] = tweet\n",
    "  time.sleep(1)\n",
    "  os.system(\"clear\")\n",
    "\n",
    "def viewTweet():\n",
    "  matches = db.prefix(\"mes\")\n",
    "  matches = matches[::-1]\n",
    "  counter = 0\n",
    "  for i in matches:\n",
    "    print(db[i])\n",
    "    print()\n",
    "    time.sleep(0.3)\n",
    "    counter+=1\n",
    "    if(counter%10==0):\n",
    "      carryOn = input(\"Next 10?: \")\n",
    "      if(carryOn.lower()==\"no\"):\n",
    "        break\n",
    "  time.sleep(1)\n",
    "  os.system(\"clear\")\n",
    "\n",
    "\n",
    "while True:\n",
    "  print(\"Tweeter\")\n",
    "  menu = input(\"1: Add Tweet\\n2: View Tweets\\n> \")\n",
    "  if menu == \"1\":\n",
    "    addTweet()\n",
    "  else:\n",
    "    viewTweet()"
   ]
  }
 ],
 "metadata": {
  "kernelspec": {
   "display_name": "Python 3",
   "language": "python",
   "name": "python3"
  },
  "language_info": {
   "codemirror_mode": {
    "name": "ipython",
    "version": 3
   },
   "file_extension": ".py",
   "mimetype": "text/x-python",
   "name": "python",
   "nbconvert_exporter": "python",
   "pygments_lexer": "ipython3",
   "version": "3.10.11"
  },
  "orig_nbformat": 4
 },
 "nbformat": 4,
 "nbformat_minor": 2
}
