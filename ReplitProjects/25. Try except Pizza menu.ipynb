{
 "cells": [
  {
   "attachments": {},
   "cell_type": "markdown",
   "metadata": {},
   "source": [
    "### **25. Pizza menu using try and except**"
   ]
  },
  {
   "cell_type": "code",
   "execution_count": null,
   "metadata": {},
   "outputs": [],
   "source": [
    "import os, time\n",
    "pizza = []\n",
    "\n",
    "try:\n",
    "  f = open(\"file.new\", \"r\")\n",
    "  new_list = eval(f.read())\n",
    "  f.close()\n",
    "except:\n",
    "  print(\"No such file or directory\")\n",
    "\n",
    "def add():\n",
    "  time.sleep(1)\n",
    "  os.system(\"clear\")\n",
    "  name = input(\"Name: \")\n",
    "  toppings = input(\"Toppings: \")\n",
    "  size = input(\"Size (s/m/l): \").lower()\n",
    "  while True:\n",
    "    try:\n",
    "      qty = int(input(\"Quantity: \"))\n",
    "      break\n",
    "    except:\n",
    "      print(\"Error: Quanity must be a whole number\")\n",
    "  cost = 0\n",
    "  if size==\"s\":\n",
    "    cost = 5.99\n",
    "  elif size==\"m\":\n",
    "    cost = 9.99\n",
    "  else:\n",
    "    cost = 14.99\n",
    "  total = cost * qty\n",
    "  total = round(total, 2)\n",
    "  row = [name, toppings, size, qty, total]\n",
    "  pizza.append(row)\n",
    "\n",
    "def view():\n",
    "  h1 = \"Name\"\n",
    "  h2 = \"Topping\"\n",
    "  h3 = \"Size\"\n",
    "  h4 = \"Quantity\"\n",
    "  h5 = \"Total\"\n",
    "  print(f\"{h1:^10}{h2:^20}{h3:^10}{h4:^10}{h5:^10}\")\n",
    "  for row in pizza:\n",
    "    print(f\"{row[0]:^10}{row[1]:^20}{row[2]:^10}{row[3]:^10}{row[4]:^10}\")\n",
    "  time.sleep(2)\n",
    "\n",
    "while True:\n",
    "  time.sleep(1)\n",
    "  os.system(\"clear\")\n",
    "  print(\"🌟Dave's Dodgy Pizzas🌟\")\n",
    "  menu = int(input(\"1. Add\\n2. View:\\n\"))\n",
    "\n",
    "  if menu == 1:\n",
    "    add()\n",
    "  else:\n",
    "    view()\n",
    "  f = open(\"file.new\", \"w\")\n",
    "  f.write(str(new_list))\n",
    "  f.close()"
   ]
  }
 ],
 "metadata": {
  "language_info": {
   "name": "python"
  },
  "orig_nbformat": 4
 },
 "nbformat": 4,
 "nbformat_minor": 2
}
