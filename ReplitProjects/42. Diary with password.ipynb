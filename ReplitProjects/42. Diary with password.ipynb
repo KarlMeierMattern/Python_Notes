{
 "cells": [
  {
   "attachments": {},
   "cell_type": "markdown",
   "metadata": {},
   "source": [
    "### **42. Password protected diary**"
   ]
  },
  {
   "cell_type": "code",
   "execution_count": null,
   "metadata": {},
   "outputs": [],
   "source": [
    "from replit import db\n",
    "import datetime, os, time, random\n",
    "\n",
    "def addEntry():\n",
    "  time.sleep(1)\n",
    "  os.system(\"clear\")\n",
    "  timestamp = datetime.datetime.now()\n",
    "  print(f\"Diary entry for {timestamp}\")\n",
    "  print()\n",
    "  entry = input(\"> \")\n",
    "  db[timestamp] = entry\n",
    "\n",
    "def viewEntry():\n",
    "  keys = db.prefix(\"2\")\n",
    "  for key in keys:\n",
    "    time.sleep(1)\n",
    "    os.system(\"clear\")\n",
    "    print(f\"\"\"{key}\n",
    "    {db[key]}\"\"\")\n",
    "    print()\n",
    "    opt = input(\"Next or exit? > \")\n",
    "    if(opt.lower()[0]==\"e\"):\n",
    "      break\n",
    "\n",
    "keys = db.keys()\n",
    "if len(keys)<1:\n",
    "  print(\"First Run > Create account\")\n",
    "  username = input(\"Username > \")\n",
    "  password = input(\"Password > \")\n",
    "  salt = random.randint(0,9999999)\n",
    "  newPassword = hash(f\"{password}{salt}\")\n",
    "  db[username] = {\"password\": newPassword, \"salt\": salt}\n",
    "else:\n",
    "  print(\"Log in\")\n",
    "  username = input(\"Username > \")\n",
    "  password = input(\"Password > \")\n",
    "  if username not in keys:\n",
    "    print(\"Username or password incorrect\")\n",
    "    exit()\n",
    "  salt = db[username][\"salt\"]\n",
    "  newPassword = hash(f\"{password}{salt}\")\n",
    "  if db[username][\"password\"]!=newPassword:\n",
    "    print(\"Username or password incorrect\")\n",
    "    exit()\n",
    "\n",
    "while True:\n",
    "  os.system(\"clear\")\n",
    "  menu = input(\"1: Add\\n2: View\\n> \")\n",
    "  if menu == \"1\":\n",
    "    addEntry()\n",
    "  else:\n",
    "    viewEntry()"
   ]
  }
 ],
 "metadata": {
  "language_info": {
   "name": "python"
  },
  "orig_nbformat": 4
 },
 "nbformat": 4,
 "nbformat_minor": 2
}
