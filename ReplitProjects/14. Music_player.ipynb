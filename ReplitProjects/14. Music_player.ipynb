{
 "cells": [
  {
   "attachments": {},
   "cell_type": "markdown",
   "metadata": {},
   "source": [
    "## **14. Music player library** "
   ]
  },
  {
   "attachments": {},
   "cell_type": "markdown",
   "metadata": {},
   "source": [
    "The below program won't run as the replit library is specific to the replit IDE"
   ]
  },
  {
   "cell_type": "code",
   "execution_count": 1,
   "metadata": {},
   "outputs": [
    {
     "ename": "ModuleNotFoundError",
     "evalue": "No module named 'replit'",
     "output_type": "error",
     "traceback": [
      "\u001b[1;31m---------------------------------------------------------------------------\u001b[0m",
      "\u001b[1;31mModuleNotFoundError\u001b[0m                       Traceback (most recent call last)",
      "\u001b[1;32mc:\\Users\\kmeiermatt001\\Documents\\GitHub\\Python_Notes\\Projects\\14. Music_player.ipynb Cell 1\u001b[0m in \u001b[0;36m<cell line: 1>\u001b[1;34m()\u001b[0m\n\u001b[1;32m----> <a href='vscode-notebook-cell:/c%3A/Users/kmeiermatt001/Documents/GitHub/Python_Notes/Projects/14.%20Music_player.ipynb#W0sZmlsZQ%3D%3D?line=0'>1</a>\u001b[0m \u001b[39mfrom\u001b[39;00m \u001b[39mreplit\u001b[39;00m \u001b[39mimport\u001b[39;00m audio\n\u001b[0;32m      <a href='vscode-notebook-cell:/c%3A/Users/kmeiermatt001/Documents/GitHub/Python_Notes/Projects/14.%20Music_player.ipynb#W0sZmlsZQ%3D%3D?line=1'>2</a>\u001b[0m \u001b[39mimport\u001b[39;00m \u001b[39mos\u001b[39;00m\u001b[39m,\u001b[39m \u001b[39mtime\u001b[39;00m\n\u001b[0;32m      <a href='vscode-notebook-cell:/c%3A/Users/kmeiermatt001/Documents/GitHub/Python_Notes/Projects/14.%20Music_player.ipynb#W0sZmlsZQ%3D%3D?line=3'>4</a>\u001b[0m \u001b[39mdef\u001b[39;00m \u001b[39mplay\u001b[39m():\n",
      "\u001b[1;31mModuleNotFoundError\u001b[0m: No module named 'replit'"
     ]
    }
   ],
   "source": [
    "from replit import audio\n",
    "import os, time\n",
    "\n",
    "def play():\n",
    "  source = audio.play_file('audio.wav')\n",
    "  source.paused = False # unpause the playback\n",
    "  while True:\n",
    "    stop_playback = int(input(\"Press 2 anytime to stop playback and go back to the menu : \")) # giving the user the option to stop playback\n",
    "    if stop_playback == 2:\n",
    "      source.paused = True # let's pause the file \n",
    "      return # allows you to exit the play() subroutine, after which the while loop below will continue\n",
    "    else: \n",
    "      continue\n",
    "  \n",
    "while True:\n",
    "  os.system(\"clear\")\n",
    "  print(\"🎵 MyPOD Music Player\")\n",
    "  time.sleep(1)\n",
    "  print(\"Press 1 to Play\")\n",
    "  time.sleep(1)\n",
    "  print(\"Press 2 to Exit\")\n",
    "  time.sleep(1)\n",
    "  print(\"Press anything else to see the menu again\")\n",
    "  user_input = int(input())\n",
    "  if user_input == 1:\n",
    "    play()\n",
    "  elif user_input == 2:\n",
    "    exit()\n",
    "  else:\n",
    "    continue"
   ]
  }
 ],
 "metadata": {
  "kernelspec": {
   "display_name": "base",
   "language": "python",
   "name": "python3"
  },
  "language_info": {
   "codemirror_mode": {
    "name": "ipython",
    "version": 3
   },
   "file_extension": ".py",
   "mimetype": "text/x-python",
   "name": "python",
   "nbconvert_exporter": "python",
   "pygments_lexer": "ipython3",
   "version": "3.9.12"
  },
  "orig_nbformat": 4
 },
 "nbformat": 4,
 "nbformat_minor": 2
}
