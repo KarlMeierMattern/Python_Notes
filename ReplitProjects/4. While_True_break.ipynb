{
 "cells": [
  {
   "attachments": {},
   "cell_type": "markdown",
   "metadata": {},
   "source": [
    "## **4. Using `while True` loops with `break`** "
   ]
  },
  {
   "attachments": {},
   "cell_type": "markdown",
   "metadata": {},
   "source": [
    "### **Calculator for adding**"
   ]
  },
  {
   "cell_type": "code",
   "execution_count": 2,
   "metadata": {},
   "outputs": [
    {
     "name": "stdout",
     "output_type": "stream",
     "text": [
      "Adding it up!\n",
      "Current total is 10\n",
      "Bye!\n"
     ]
    }
   ],
   "source": [
    "counter = 0\n",
    "while True:\n",
    "  answer = int(input(\"Enter a number: \"))\n",
    "  print(\"Adding it up!\")\n",
    "  counter += answer\n",
    "  print(\"Current total is\", counter)\n",
    "  addAnother = input(\"Add another? \")\n",
    "  if addAnother == \"no\":\n",
    "    break\n",
    "print(\"Bye!\")"
   ]
  },
  {
   "attachments": {},
   "cell_type": "markdown",
   "metadata": {},
   "source": [
    "### **Guess the song lyrics game**"
   ]
  },
  {
   "cell_type": "code",
   "execution_count": null,
   "metadata": {},
   "outputs": [],
   "source": [
    "print(\"This is a game about song lyrics\")\n",
    "print()\n",
    "print(\"Guess the following lyrics\")\n",
    "print()\n",
    "\n",
    "counter = 0\n",
    "while True:\n",
    "  answer = input(\"Never going to ______ you up.\")\n",
    "  if answer == \"give\":\n",
    "    counter += 1\n",
    "    print(\"Well done, it took you\", counter, \"attempts\")\n",
    "    break\n",
    "  else:\n",
    "    counter += 1\n",
    "    print(\"Sorry try again, that is attempt number\", counter)\n",
    "print(\"That is the end of the game\")"
   ]
  }
 ],
 "metadata": {
  "kernelspec": {
   "display_name": "base",
   "language": "python",
   "name": "python3"
  },
  "language_info": {
   "codemirror_mode": {
    "name": "ipython",
    "version": 3
   },
   "file_extension": ".py",
   "mimetype": "text/x-python",
   "name": "python",
   "nbconvert_exporter": "python",
   "pygments_lexer": "ipython3",
   "version": "3.10.10"
  },
  "orig_nbformat": 4,
  "vscode": {
   "interpreter": {
    "hash": "53c1b4b564eb55bc17be1301e8b58b40420bf6fa9bbd1b108c9f4fb3e216399e"
   }
  }
 },
 "nbformat": 4,
 "nbformat_minor": 2
}
