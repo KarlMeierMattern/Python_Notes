{
 "cells": [
  {
   "attachments": {},
   "cell_type": "markdown",
   "metadata": {},
   "source": [
    "### **32. Dates**"
   ]
  },
  {
   "attachments": {},
   "cell_type": "markdown",
   "metadata": {},
   "source": [
    "### **My answer**"
   ]
  },
  {
   "cell_type": "code",
   "execution_count": null,
   "metadata": {},
   "outputs": [],
   "source": [
    "import datetime\n",
    "\n",
    "today = datetime.date.today()\n",
    "name = input(\"What is your name?\\n\")\n",
    "year = int(input(\"What is the year of your event?\\n\"))\n",
    "month = int(input(\"What is the month of your event?\\n\"))\n",
    "day = int(input(\"What is the day of your event?\\n\"))\n",
    "date = datetime.date(year, month, day)\n",
    "print()\n",
    "print(f\"Your event is {(date - today).days} days from today\")"
   ]
  },
  {
   "attachments": {},
   "cell_type": "markdown",
   "metadata": {},
   "source": [
    "### **Solution**"
   ]
  },
  {
   "cell_type": "code",
   "execution_count": null,
   "metadata": {},
   "outputs": [],
   "source": [
    "import datetime\n",
    "\n",
    "today = datetime.date.today()\n",
    "\n",
    "print(\"EVENT COUNTDOWN\")\n",
    "day = int(input(\"Day: \"))\n",
    "month = int(input(\"Month: \"))\n",
    "year = int(input(\"Year: \"))\n",
    "event = datetime.date(year, month, day)\n",
    "\n",
    "difference = event - today\n",
    "difference = difference.days\n",
    "\n",
    "if difference>0:\n",
    "  print(f\"{difference} days to go\")\n",
    "elif difference<0:\n",
    "  print(f\"😭😭😭😭😭😭😭 You missed it by {difference} days!\")\n",
    "  \n",
    "else:\n",
    "  print(\"🥳🥳🥳🥳🥳🥳🥳 Today!\")"
   ]
  }
 ],
 "metadata": {
  "language_info": {
   "name": "python"
  },
  "orig_nbformat": 4
 },
 "nbformat": 4,
 "nbformat_minor": 2
}
