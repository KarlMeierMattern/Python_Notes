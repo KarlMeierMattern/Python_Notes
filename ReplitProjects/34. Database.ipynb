{
 "cells": [
  {
   "attachments": {},
   "cell_type": "markdown",
   "metadata": {},
   "source": [
    "### **Diary entry using database**"
   ]
  },
  {
   "attachments": {},
   "cell_type": "markdown",
   "metadata": {},
   "source": [
    "### **My attempt**"
   ]
  },
  {
   "cell_type": "code",
   "execution_count": null,
   "metadata": {},
   "outputs": [],
   "source": [
    "from datetime import datetime\n",
    "from replit import db\n",
    "import os, time\n",
    "\n",
    "def add():\n",
    "  time.sleep(1)\n",
    "  os.system(\"clear\")\n",
    "  entry = input(\"Type your tweet:\\n\")\n",
    "  db[datetime.now()] = entry\n",
    "\n",
    "def view():\n",
    "  time.sleep(1)\n",
    "  os.system(\"clear\")\n",
    "  keys = db.keys()\n",
    "  for key in keys:\n",
    "    time.sleep(1)\n",
    "    os.system(\"clear\")\n",
    "    print(f\"{key}: {db[key]}\")\n",
    "    exit = input(\"Next of exit?\\n\").lower()\n",
    "    if exit[0]  == \"e\":\n",
    "      break\n",
    "\n",
    "password = int(input(\"Password:\\n\"))\n",
    "while True:\n",
    "  os.system(\"clear\")\n",
    "  if password == 1996:\n",
    "    choice = int(input(\"1.Add\\n2.View\\n\"))\n",
    "    if choice == 1:\n",
    "      add()\n",
    "    else:\n",
    "      view()"
   ]
  },
  {
   "attachments": {},
   "cell_type": "markdown",
   "metadata": {},
   "source": [
    "### **Solution**"
   ]
  },
  {
   "cell_type": "code",
   "execution_count": null,
   "metadata": {},
   "outputs": [],
   "source": [
    "from replit import db\n",
    "import datetime, os, time\n",
    "\n",
    "def addEntry():\n",
    "  time.sleep(1)\n",
    "  os.system(\"clear\")\n",
    "  timestamp = datetime.datetime.now()\n",
    "  print(f\"Diary entry for {timestamp}\")\n",
    "  print()\n",
    "  entry = input(\"> \")\n",
    "  db[timestamp] = entry\n",
    "\n",
    "def viewEntry():\n",
    "  keys = db.keys()\n",
    "  for key in keys:\n",
    "    time.sleep(1)\n",
    "    os.system(\"clear\")\n",
    "    print(f\"\"\"{key}\n",
    "    {db[key]}\"\"\")\n",
    "    print()\n",
    "    opt = input(\"Next or exit? > \")\n",
    "    if(opt.lower()[0]==\"e\"):\n",
    "      break\n",
    "\n",
    "\n",
    "password = input(\"Password: \")\n",
    "if password != \"baldy1\":\n",
    "  print(\"Incorrect\")\n",
    "  exit()\n",
    "while True:\n",
    "  os.system(\"clear\")\n",
    "  menu = input(\"1: Add\\n2: View\\n> \")\n",
    "  if menu == \"1\":\n",
    "    addEntry()\n",
    "  else:\n",
    "    viewEntry()"
   ]
  }
 ],
 "metadata": {
  "language_info": {
   "name": "python"
  },
  "orig_nbformat": 4
 },
 "nbformat": 4,
 "nbformat_minor": 2
}
