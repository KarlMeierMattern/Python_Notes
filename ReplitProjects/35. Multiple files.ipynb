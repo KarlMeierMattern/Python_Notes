{
 "cells": [
  {
   "attachments": {},
   "cell_type": "markdown",
   "metadata": {},
   "source": [
    "### **35. Multiple Files**"
   ]
  },
  {
   "cell_type": "code",
   "execution_count": null,
   "metadata": {},
   "outputs": [],
   "source": [
    "# Main.py file\n",
    "import test as tt\n",
    "\n",
    "print(\"Countdown\")\n",
    "tt.countdown() # tt refers to the file, countdown to the subroutine in that file.\n"
   ]
  },
  {
   "cell_type": "code",
   "execution_count": null,
   "metadata": {},
   "outputs": [],
   "source": [
    "# Test.py file\n",
    "def countdown():\n",
    "  for i in range(10):\n",
    "    print(i+1)"
   ]
  }
 ],
 "metadata": {
  "language_info": {
   "name": "python"
  },
  "orig_nbformat": 4
 },
 "nbformat": 4,
 "nbformat_minor": 2
}
