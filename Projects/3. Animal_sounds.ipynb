{
 "cells": [
  {
   "cell_type": "code",
   "execution_count": 1,
   "metadata": {},
   "outputs": [
    {
     "name": "stdout",
     "output_type": "stream",
     "text": [
      "meow\n"
     ]
    }
   ],
   "source": [
    "exit = \"\"\n",
    "\n",
    "while exit!=\"yes\":\n",
    "  my_sound = input(\"What sound do you want to hear?\")\n",
    "\n",
    "  if my_sound == \"cow\" or my_sound == \"Cow\":\n",
    "    print(\"moo\")\n",
    "  elif my_sound == \"dog\" or my_sound == \"Dog\":\n",
    "    print(\"roof\")\n",
    "  elif my_sound == \"cat\" or my_sound == \"Cat\":\n",
    "    print(\"meow\")\n",
    "  elif my_sound == \"frog\" or my_sound == \"Frog\":\n",
    "    print(\"ribbet\")\n",
    "  else:\n",
    "    print(\"I don't know that animal sound. Try again.\")\n",
    "  \n",
    "  exit = input(\"Do you want to exit?\")"
   ]
  }
 ],
 "metadata": {
  "kernelspec": {
   "display_name": "base",
   "language": "python",
   "name": "python3"
  },
  "language_info": {
   "codemirror_mode": {
    "name": "ipython",
    "version": 3
   },
   "file_extension": ".py",
   "mimetype": "text/x-python",
   "name": "python",
   "nbconvert_exporter": "python",
   "pygments_lexer": "ipython3",
   "version": "3.9.12"
  },
  "orig_nbformat": 4,
  "vscode": {
   "interpreter": {
    "hash": "53c1b4b564eb55bc17be1301e8b58b40420bf6fa9bbd1b108c9f4fb3e216399e"
   }
  }
 },
 "nbformat": 4,
 "nbformat_minor": 2
}
