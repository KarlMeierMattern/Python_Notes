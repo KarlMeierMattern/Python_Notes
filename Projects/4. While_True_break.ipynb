{
 "cells": [
  {
   "cell_type": "code",
   "execution_count": 2,
   "metadata": {},
   "outputs": [
    {
     "name": "stdout",
     "output_type": "stream",
     "text": [
      "Adding it up!\n",
      "Current total is 10\n",
      "Bye!\n"
     ]
    }
   ],
   "source": [
    "counter = 0\n",
    "while True:\n",
    "  answer = int(input(\"Enter a number: \"))\n",
    "  print(\"Adding it up!\")\n",
    "  counter += answer\n",
    "  print(\"Current total is\", counter)\n",
    "  addAnother = input(\"Add another? \")\n",
    "  if addAnother == \"no\":\n",
    "    break\n",
    "print(\"Bye!\")"
   ]
  }
 ],
 "metadata": {
  "kernelspec": {
   "display_name": "base",
   "language": "python",
   "name": "python3"
  },
  "language_info": {
   "codemirror_mode": {
    "name": "ipython",
    "version": 3
   },
   "file_extension": ".py",
   "mimetype": "text/x-python",
   "name": "python",
   "nbconvert_exporter": "python",
   "pygments_lexer": "ipython3",
   "version": "3.9.12"
  },
  "orig_nbformat": 4,
  "vscode": {
   "interpreter": {
    "hash": "53c1b4b564eb55bc17be1301e8b58b40420bf6fa9bbd1b108c9f4fb3e216399e"
   }
  }
 },
 "nbformat": 4,
 "nbformat_minor": 2
}
