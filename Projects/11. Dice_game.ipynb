{
 "cells": [
  {
   "attachments": {},
   "cell_type": "markdown",
   "metadata": {},
   "source": [
    "## **11. Dice game using `def` function and `while` statement** "
   ]
  },
  {
   "attachments": {},
   "cell_type": "markdown",
   "metadata": {},
   "source": [
    "### **V1**"
   ]
  },
  {
   "cell_type": "code",
   "execution_count": null,
   "metadata": {},
   "outputs": [],
   "source": [
    "def rolldice(sides):\n",
    "  import random\n",
    "  roll = random.randint(1,my_sides)\n",
    "  print(roll)\n",
    "\n",
    "my_sides = int(input(\"How many sides should the dice have? \"))\n",
    "rolldice(my_sides)"
   ]
  },
  {
   "attachments": {},
   "cell_type": "markdown",
   "metadata": {},
   "source": [
    "### **V2**"
   ]
  },
  {
   "cell_type": "code",
   "execution_count": 6,
   "metadata": {},
   "outputs": [
    {
     "name": "stdout",
     "output_type": "stream",
     "text": [
      "Infinity Dice 🎲\n",
      "You rolled  2\n",
      "You rolled  6\n",
      "You rolled  4\n",
      "You rolled  6\n",
      "You rolled  3\n"
     ]
    }
   ],
   "source": [
    "import random\n",
    "print(\"Infinity Dice 🎲\")\n",
    "  \n",
    "sides = int(input(\"How many sides?: \"))\n",
    "playGame = \"yes\"\n",
    "  \n",
    "def rollDice(sides):\n",
    "    print(\"You rolled \", random.randint(1,sides))\n",
    "\n",
    "while playGame == \"yes\":\n",
    "    rollDice(sides)\n",
    "    playGame = input(\"Roll again?\")"
   ]
  }
 ],
 "metadata": {
  "kernelspec": {
   "display_name": "Python 3",
   "language": "python",
   "name": "python3"
  },
  "language_info": {
   "codemirror_mode": {
    "name": "ipython",
    "version": 3
   },
   "file_extension": ".py",
   "mimetype": "text/x-python",
   "name": "python",
   "nbconvert_exporter": "python",
   "pygments_lexer": "ipython3",
   "version": "3.10.10"
  },
  "orig_nbformat": 4
 },
 "nbformat": 4,
 "nbformat_minor": 2
}
