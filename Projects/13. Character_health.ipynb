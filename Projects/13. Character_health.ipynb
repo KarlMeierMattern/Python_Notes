{
 "cells": [
  {
   "attachments": {},
   "cell_type": "markdown",
   "metadata": {},
   "source": [
    "## **13. Character health app using `def` function, `while` loop and `random` library** "
   ]
  },
  {
   "cell_type": "code",
   "execution_count": null,
   "metadata": {},
   "outputs": [],
   "source": [
    "import random\n",
    "\n",
    "def rollDice(sides):\n",
    "  result = random.randint(1,sides)\n",
    "  return result\n",
    "\n",
    "def roll_6_and_8():\n",
    "  roll_6_sided_dice = rollDice(6)\n",
    "  roll_8_sided_dice = rollDice(8)\n",
    "  health = roll_6_sided_dice * roll_8_sided_dice\n",
    "  return health\n",
    "\n",
    "print(\"⚔️Character stats generator⚔️\")\n",
    "  \n",
    "haveACharacter = \"yes\"\n",
    "\n",
    "while haveACharacter == \"yes\":\n",
    "  character = input(\"Name your warrior: \")\n",
    "  health = str(roll_6_and_8())\n",
    "  print(\"Their health is\", health,\"hp\" ) \n",
    "  haveACharacter = input(\"Want to create another character?\")"
   ]
  }
 ],
 "metadata": {
  "language_info": {
   "name": "python"
  },
  "orig_nbformat": 4
 },
 "nbformat": 4,
 "nbformat_minor": 2
}
