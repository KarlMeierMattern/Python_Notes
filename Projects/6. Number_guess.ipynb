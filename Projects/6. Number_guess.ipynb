{
 "cells": [
  {
   "attachments": {},
   "cell_type": "markdown",
   "metadata": {},
   "source": [
    "## **6. Using `continue`, `break` and `exit` in loops** "
   ]
  },
  {
   "attachments": {},
   "cell_type": "markdown",
   "metadata": {},
   "source": [
    "### **Guess the number game**"
   ]
  },
  {
   "attachments": {},
   "cell_type": "markdown",
   "metadata": {},
   "source": [
    "### **Version 1**"
   ]
  },
  {
   "cell_type": "code",
   "execution_count": 4,
   "metadata": {},
   "outputs": [
    {
     "name": "stdout",
     "output_type": "stream",
     "text": [
      "This is a number guessing game\n",
      "\n",
      "Guess the number I am thinking of\n",
      "\n",
      "Too low\n",
      "Too low\n",
      "Too high\n",
      "Congrats, you got it\n",
      "The answer was 890 and you took 4 guesses to get there\n"
     ]
    }
   ],
   "source": [
    "print(\"This is a number guessing game\")\n",
    "print()\n",
    "print(\"Guess the number I am thinking of\")\n",
    "print()\n",
    "\n",
    "correct_number = 890\n",
    "counter = 1\n",
    "\n",
    "while True:\n",
    "    my_guess = int(input(\"Guess: \"))\n",
    "    if my_guess > correct_number:\n",
    "        print(\"Too high\")\n",
    "        counter+=1\n",
    "        continue\n",
    "    elif my_guess < correct_number:\n",
    "        print(\"Too low\")\n",
    "        counter+=1\n",
    "        continue\n",
    "    elif my_guess == correct_number:\n",
    "        print(\"Congrats, you got it\")\n",
    "        break\n",
    "    else:\n",
    "        print(\"That is not a number I recognise\")\n",
    "\n",
    "print(\"The answer was\", correct_number, \"and you took\", counter, \"guesses to get there\")"
   ]
  },
  {
   "attachments": {},
   "cell_type": "markdown",
   "metadata": {},
   "source": [
    "### **Version 2**"
   ]
  },
  {
   "cell_type": "code",
   "execution_count": 1,
   "metadata": {},
   "outputs": [
    {
     "name": "stdout",
     "output_type": "stream",
     "text": [
      "Welcome to Guess the Number.\n",
      "\n",
      "Guess a number between 1 and 1,000,000 and I will tell you if you are too low, too high, or get it correct.\n",
      "\n",
      "Let's play!\n",
      "Now we'll never know what the answer is …\n",
      "That number is too low. Try again!\n",
      "That number is too low. Try again!\n",
      "That number is too low. Try again!\n",
      "You are a winner! 🥳🥳\n",
      "It took you 4 attempt(s) to get the correct answer.\n"
     ]
    },
    {
     "ename": "",
     "evalue": "",
     "output_type": "error",
     "traceback": [
      "\u001b[1;31mThe Kernel crashed while executing code in the the current cell or a previous cell. Please review the code in the cell(s) to identify a possible cause of the failure. Click <a href='https://aka.ms/vscodeJupyterKernelCrash'>here</a> for more info. View Jupyter <a href='command:jupyter.viewOutput'>log</a> for further details."
     ]
    }
   ],
   "source": [
    "print(\"Welcome to Guess the Number.\")\n",
    "print()\n",
    "print(\"Guess a number between 1 and 1,000,000 and I will tell you if you are too low, too high, or get it correct.\")\n",
    "print()\n",
    "print(\"Let's play!\")\n",
    "\n",
    "correct_number = 2300\n",
    "attempt = 1\n",
    "\n",
    "while True:\n",
    "  user_guess = int(input(\"Pick a number between 1 and 1,000,000: \"))\n",
    "  if user_guess < 0:\n",
    "    print(\"Now we'll never know what the answer is …\")\n",
    "    exit()\n",
    "  if user_guess < correct_number:\n",
    "    print(\"That number is too low. Try again!\")\n",
    "    attempt += 1\n",
    "  elif user_guess > correct_number:\n",
    "    print(\"That number is too high. Try again!\")\n",
    "    attempt += 1\n",
    "    continue\n",
    "  elif user_guess == correct_number:\n",
    "    print(\"You are a winner! 🥳🥳\")\n",
    "    break \n",
    "  else:\n",
    "    print(\"That is not a number I recognize.\")\n",
    "print(\"It took you\", attempt, \"attempt(s) to get the correct answer.\")"
   ]
  },
  {
   "attachments": {},
   "cell_type": "markdown",
   "metadata": {},
   "source": [
    "### **Version 3 - using `random` number generator**"
   ]
  },
  {
   "cell_type": "code",
   "execution_count": null,
   "metadata": {},
   "outputs": [],
   "source": [
    "import random\n",
    "\n",
    "print(\"This is a number guessing game\")\n",
    "print()\n",
    "print(\"Guess the number I am thinking of\")\n",
    "print()\n",
    "\n",
    "correct_number = random.randint(1,100)\n",
    "counter = 1\n",
    "\n",
    "while True:\n",
    "  my_guess = int(input(\"Guess: \"))\n",
    "  if my_guess > correct_number:\n",
    "    print(\"Too high\")\n",
    "    counter+=1\n",
    "  elif my_guess < correct_number:\n",
    "    print(\"Too low\")\n",
    "    counter+=1\n",
    "  else:\n",
    "    print(\"Congrats, you got it\")\n",
    "    break\n",
    "\n",
    "print(\"The answer was\", correct_number, \"and you took\", counter, \"guesses to get there\")"
   ]
  }
 ],
 "metadata": {
  "kernelspec": {
   "display_name": "Python 3",
   "language": "python",
   "name": "python3"
  },
  "language_info": {
   "codemirror_mode": {
    "name": "ipython",
    "version": 3
   },
   "file_extension": ".py",
   "mimetype": "text/x-python",
   "name": "python",
   "nbconvert_exporter": "python",
   "pygments_lexer": "ipython3",
   "version": "3.10.10"
  },
  "orig_nbformat": 4,
  "vscode": {
   "interpreter": {
    "hash": "f94b154e4e0102b65eb1b3335bb26f71a63b6088a081adcb5353195e79ebe68d"
   }
  }
 },
 "nbformat": 4,
 "nbformat_minor": 2
}
